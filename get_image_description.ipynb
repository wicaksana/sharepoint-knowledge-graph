{
 "cells": [
  {
   "cell_type": "code",
   "execution_count": 11,
   "metadata": {},
   "outputs": [
    {
     "name": "stdout",
     "output_type": "stream",
     "text": [
      "Requirement already satisfied: openai in ./.venv/lib/python3.12/site-packages (1.53.0)\n",
      "Requirement already satisfied: neo4j in ./.venv/lib/python3.12/site-packages (5.25.0)\n",
      "Requirement already satisfied: anyio<5,>=3.5.0 in ./.venv/lib/python3.12/site-packages (from openai) (4.6.2.post1)\n",
      "Requirement already satisfied: distro<2,>=1.7.0 in ./.venv/lib/python3.12/site-packages (from openai) (1.9.0)\n",
      "Requirement already satisfied: httpx<1,>=0.23.0 in ./.venv/lib/python3.12/site-packages (from openai) (0.27.2)\n",
      "Requirement already satisfied: jiter<1,>=0.4.0 in ./.venv/lib/python3.12/site-packages (from openai) (0.7.0)\n",
      "Requirement already satisfied: pydantic<3,>=1.9.0 in ./.venv/lib/python3.12/site-packages (from openai) (2.9.2)\n",
      "Requirement already satisfied: sniffio in ./.venv/lib/python3.12/site-packages (from openai) (1.3.1)\n",
      "Requirement already satisfied: tqdm>4 in ./.venv/lib/python3.12/site-packages (from openai) (4.66.5)\n",
      "Requirement already satisfied: typing-extensions<5,>=4.11 in ./.venv/lib/python3.12/site-packages (from openai) (4.12.2)\n",
      "Requirement already satisfied: pytz in ./.venv/lib/python3.12/site-packages (from neo4j) (2024.2)\n",
      "Requirement already satisfied: idna>=2.8 in ./.venv/lib/python3.12/site-packages (from anyio<5,>=3.5.0->openai) (3.10)\n",
      "Requirement already satisfied: certifi in ./.venv/lib/python3.12/site-packages (from httpx<1,>=0.23.0->openai) (2024.8.30)\n",
      "Requirement already satisfied: httpcore==1.* in ./.venv/lib/python3.12/site-packages (from httpx<1,>=0.23.0->openai) (1.0.6)\n",
      "Requirement already satisfied: h11<0.15,>=0.13 in ./.venv/lib/python3.12/site-packages (from httpcore==1.*->httpx<1,>=0.23.0->openai) (0.14.0)\n",
      "Requirement already satisfied: annotated-types>=0.6.0 in ./.venv/lib/python3.12/site-packages (from pydantic<3,>=1.9.0->openai) (0.7.0)\n",
      "Requirement already satisfied: pydantic-core==2.23.4 in ./.venv/lib/python3.12/site-packages (from pydantic<3,>=1.9.0->openai) (2.23.4)\n",
      "\n",
      "\u001b[1m[\u001b[0m\u001b[34;49mnotice\u001b[0m\u001b[1;39;49m]\u001b[0m\u001b[39;49m A new release of pip is available: \u001b[0m\u001b[31;49m24.2\u001b[0m\u001b[39;49m -> \u001b[0m\u001b[32;49m24.3.1\u001b[0m\n",
      "\u001b[1m[\u001b[0m\u001b[34;49mnotice\u001b[0m\u001b[1;39;49m]\u001b[0m\u001b[39;49m To update, run: \u001b[0m\u001b[32;49mpip install --upgrade pip\u001b[0m\n",
      "Note: you may need to restart the kernel to use updated packages.\n"
     ]
    }
   ],
   "source": [
    "%pip install openai neo4j"
   ]
  },
  {
   "cell_type": "code",
   "execution_count": null,
   "metadata": {},
   "outputs": [],
   "source": [
    "from neo4j import GraphDatabase\n",
    "from openai import OpenAI"
   ]
  },
  {
   "cell_type": "code",
   "execution_count": null,
   "metadata": {},
   "outputs": [],
   "source": [
    "username = 'neo4j'\n",
    "password = ''\n",
    "uri = ''\n",
    "openai_api_key = ''"
   ]
  },
  {
   "cell_type": "markdown",
   "metadata": {},
   "source": [
    "For example, add additional image of troubleshooting flow to IoT Manufactr page\n",
    "\n",
    "Image URL: https://i.imgur.com/4Ni8pXo.jpeg"
   ]
  },
  {
   "cell_type": "code",
   "execution_count": 8,
   "metadata": {},
   "outputs": [],
   "source": [
    "img_url= 'https://i.imgur.com/4Ni8pXo.jpeg'"
   ]
  },
  {
   "cell_type": "code",
   "execution_count": 10,
   "metadata": {},
   "outputs": [],
   "source": [
    "with GraphDatabase.driver(uri, auth=(username, password)) as driver:\n",
    "    driver.execute_query(\n",
    "        '''\n",
    "        MATCH (w:WebPage {id: '91ce1a95-8b21-4c3c-bb3a-69c0cd294f98'})\n",
    "        MATCH (wp:WebPart)-[:PART_OF]->(w) WHERE wp.order=9\n",
    "        MERGE (wp)-[:LINKED_TO]->(i:Image {url: $img_url})\n",
    "        RETURN i\n",
    "        ''',img_url=img_url\n",
    "    )\n"
   ]
  },
  {
   "cell_type": "markdown",
   "metadata": {},
   "source": [
    "Next, get all images from the graph."
   ]
  },
  {
   "cell_type": "code",
   "execution_count": 12,
   "metadata": {},
   "outputs": [],
   "source": [
    "images = None\n",
    "\n",
    "with GraphDatabase.driver(uri, auth=(username, password)) as driver:\n",
    "    images = driver.execute_query(\n",
    "        '''MATCH (i:Image) RETURN i.url AS url\n",
    "        '''\n",
    "    )"
   ]
  },
  {
   "cell_type": "code",
   "execution_count": 24,
   "metadata": {},
   "outputs": [],
   "source": [
    "image_links = []\n",
    "for image in images.records:\n",
    "    image_links.append(image['url'])"
   ]
  },
  {
   "cell_type": "code",
   "execution_count": 25,
   "metadata": {},
   "outputs": [
    {
     "data": {
      "text/plain": [
       "['https://cdn.hubblecontent.osi.office.net/m365content/publish/74f4e0ab-93a2-4d44-94d5-fda2981119c7/694075824.jpg',\n",
       " 'https://cdn.hubblecontent.osi.office.net/m365content/publish/76bca189-84bb-44a3-935c-c54e7864cc9f/1273582733.jpg',\n",
       " 'https://cdn.hubblecontent.osi.office.net/m365content/publish/984eb06b-e13d-4c1c-a05c-4f1f490993f1/1025633076.jpg',\n",
       " 'https://cdn.hubblecontent.osi.office.net/m365content/publish/57db0400-6f15-406f-9050-559272b52e4c/1217424559.jpg',\n",
       " 'https://i.imgur.com/4Ni8pXo.jpeg']"
      ]
     },
     "execution_count": 25,
     "metadata": {},
     "output_type": "execute_result"
    }
   ],
   "source": [
    "image_links"
   ]
  },
  {
   "cell_type": "markdown",
   "metadata": {},
   "source": [
    "Call OpenAI"
   ]
  },
  {
   "cell_type": "code",
   "execution_count": 27,
   "metadata": {},
   "outputs": [],
   "source": [
    "client = OpenAI(api_key=openai_api_key)\n",
    "\n",
    "def get_image_description(img_url):\n",
    "    response = client.chat.completions.create(\n",
    "        model='gpt-4o-mini',\n",
    "        messages=[\n",
    "            {\n",
    "                'role': 'user',\n",
    "                'content': [\n",
    "                    {\n",
    "                        'type': 'text',\n",
    "                        'text': 'What is in this image?'\n",
    "                    },\n",
    "                    {\n",
    "                        'type': 'image_url',\n",
    "                        'image_url': {\n",
    "                            'url': img_url\n",
    "                        }\n",
    "                    }\n",
    "                ]\n",
    "            }\n",
    "        ],\n",
    "        max_tokens=500,\n",
    "    )\n",
    "\n",
    "    return response.choices[0]"
   ]
  },
  {
   "cell_type": "code",
   "execution_count": 42,
   "metadata": {},
   "outputs": [],
   "source": [
    "res = []\n",
    "\n",
    "for url in image_links:\n",
    "    desc = get_image_description(url)\n",
    "    res.append({'url':url, 'description': desc.message.content})"
   ]
  },
  {
   "cell_type": "code",
   "execution_count": 43,
   "metadata": {},
   "outputs": [
    {
     "name": "stdout",
     "output_type": "stream",
     "text": [
      "\n",
      "==== https://cdn.hubblecontent.osi.office.net/m365content/publish/74f4e0ab-93a2-4d44-94d5-fda2981119c7/694075824.jpg ====\n",
      "The image depicts an industrial facility, likely an oil refinery or chemical plant. It features large cylindrical storage tanks and several tall structures, which include pipes and towers, illuminated against the twilight sky. The landscape includes a field in the foreground and various buildings around the facility. The scene conveys a sense of industrial activity and infrastructure.\n",
      "\n",
      "==== https://cdn.hubblecontent.osi.office.net/m365content/publish/76bca189-84bb-44a3-935c-c54e7864cc9f/1273582733.jpg ====\n",
      "The image shows a robotic arm, likely used in industrial automation or manufacturing settings. It features a set of grippers or end effectors designed to manipulate objects. The background includes graphical elements, such as circuitry or code-like patterns, suggesting a focus on technology and automation. This creates a futuristic or high-tech atmosphere, indicating that the robot is part of an advanced system.\n",
      "\n",
      "==== https://cdn.hubblecontent.osi.office.net/m365content/publish/984eb06b-e13d-4c1c-a05c-4f1f490993f1/1025633076.jpg ====\n",
      "The image shows a drone flying above a lush green field, possibly used for agricultural purposes. The background features a hazy sky, suggesting it might be early morning or late afternoon. The setting appears to be a rural area with rows of plants visible in the foreground.\n",
      "\n",
      "==== https://cdn.hubblecontent.osi.office.net/m365content/publish/57db0400-6f15-406f-9050-559272b52e4c/1217424559.jpg ====\n",
      "The image depicts a laboratory setup with a hand wearing a glove placing a vial onto a circular holder or rack. The rack contains multiple vials, some of which have blue tops and others with different colored tops. The setup appears to be part of a scientific or medical device, likely used for processing samples or conducting analyses in a laboratory environment.\n",
      "\n",
      "==== https://i.imgur.com/4Ni8pXo.jpeg ====\n",
      "The image is a flowchart that outlines a troubleshooting process for resolving internet connectivity issues with a router and an IoT (Internet of Things) module. \n",
      "\n",
      "Key steps include:\n",
      "\n",
      "1. Checking if cables and adapters are connected properly.\n",
      "2. Verifying if LED indicators on the router are functioning correctly.\n",
      "3. Testing if the IoT module can connect to the internet with a cable.\n",
      "4. Confirming if the ISP (Internet Service Provider) information is correctly configured.\n",
      "5. Trying to access the internet after changing the wireless name (SSID) and password.\n",
      "6. Ensuring the firmware of the router is up to date and potentially resetting it.\n",
      "7. Contacting service centers if all else fails.\n",
      "\n",
      "The flowchart provides a systematic approach to identify and resolve issues related to internet connectivity.\n"
     ]
    }
   ],
   "source": [
    "for item in res:\n",
    "    print(f'\\n==== {item['url']} ====')\n",
    "    print(item['description'])"
   ]
  },
  {
   "cell_type": "markdown",
   "metadata": {},
   "source": [
    "Append the description into the respective nodes in the graph"
   ]
  },
  {
   "cell_type": "code",
   "execution_count": 49,
   "metadata": {},
   "outputs": [
    {
     "name": "stdout",
     "output_type": "stream",
     "text": [
      "[<Record COUNT(i)=5>]\n"
     ]
    }
   ],
   "source": [
    "with GraphDatabase.driver(uri, auth=(username, password)) as driver:\n",
    "    total = driver.execute_query(\n",
    "        '''\n",
    "        UNWIND $res AS res\n",
    "        MATCH (i:Image) WHERE i.url=res.url\n",
    "        SET i.text=res.description\n",
    "        RETURN COUNT(i)\n",
    "        ''',res=res\n",
    "    )\n",
    "\n",
    "    print(total.records)"
   ]
  }
 ],
 "metadata": {
  "kernelspec": {
   "display_name": ".venv",
   "language": "python",
   "name": "python3"
  },
  "language_info": {
   "codemirror_mode": {
    "name": "ipython",
    "version": 3
   },
   "file_extension": ".py",
   "mimetype": "text/x-python",
   "name": "python",
   "nbconvert_exporter": "python",
   "pygments_lexer": "ipython3",
   "version": "3.12.3"
  }
 },
 "nbformat": 4,
 "nbformat_minor": 2
}
