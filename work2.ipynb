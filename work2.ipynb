{
 "cells": [
  {
   "cell_type": "code",
   "execution_count": 1,
   "metadata": {},
   "outputs": [
    {
     "name": "stdout",
     "output_type": "stream",
     "text": [
      "Requirement already satisfied: requests in ./.venv/lib/python3.12/site-packages (2.32.3)\n",
      "Requirement already satisfied: azure-identity in ./.venv/lib/python3.12/site-packages (1.19.0)\n",
      "Requirement already satisfied: msgraph-sdk in ./.venv/lib/python3.12/site-packages (1.11.0)\n",
      "Requirement already satisfied: neo4j in ./.venv/lib/python3.12/site-packages (5.25.0)\n",
      "Requirement already satisfied: graphdatascience in ./.venv/lib/python3.12/site-packages (1.12)\n",
      "Requirement already satisfied: charset-normalizer<4,>=2 in ./.venv/lib/python3.12/site-packages (from requests) (3.4.0)\n",
      "Requirement already satisfied: idna<4,>=2.5 in ./.venv/lib/python3.12/site-packages (from requests) (3.10)\n",
      "Requirement already satisfied: urllib3<3,>=1.21.1 in ./.venv/lib/python3.12/site-packages (from requests) (2.2.3)\n",
      "Requirement already satisfied: certifi>=2017.4.17 in ./.venv/lib/python3.12/site-packages (from requests) (2024.8.30)\n",
      "Requirement already satisfied: azure-core>=1.31.0 in ./.venv/lib/python3.12/site-packages (from azure-identity) (1.31.0)\n",
      "Requirement already satisfied: cryptography>=2.5 in ./.venv/lib/python3.12/site-packages (from azure-identity) (43.0.3)\n",
      "Requirement already satisfied: msal>=1.30.0 in ./.venv/lib/python3.12/site-packages (from azure-identity) (1.31.0)\n",
      "Requirement already satisfied: msal-extensions>=1.2.0 in ./.venv/lib/python3.12/site-packages (from azure-identity) (1.2.0)\n",
      "Requirement already satisfied: typing-extensions>=4.0.0 in ./.venv/lib/python3.12/site-packages (from azure-identity) (4.12.2)\n",
      "Requirement already satisfied: microsoft-kiota-abstractions<2.0.0,>=1.3.0 in ./.venv/lib/python3.12/site-packages (from msgraph-sdk) (1.4.6)\n",
      "Requirement already satisfied: microsoft-kiota-authentication-azure<2.0.0,>=1.0.0 in ./.venv/lib/python3.12/site-packages (from msgraph-sdk) (1.4.6)\n",
      "Requirement already satisfied: microsoft-kiota-serialization-json<2.0.0,>=1.3.0 in ./.venv/lib/python3.12/site-packages (from msgraph-sdk) (1.4.6)\n",
      "Requirement already satisfied: microsoft-kiota-serialization-text<2.0.0,>=1.0.0 in ./.venv/lib/python3.12/site-packages (from msgraph-sdk) (1.4.6)\n",
      "Requirement already satisfied: microsoft-kiota-serialization-form>=0.1.0 in ./.venv/lib/python3.12/site-packages (from msgraph-sdk) (1.4.6)\n",
      "Requirement already satisfied: microsoft-kiota-serialization-multipart>=0.1.0 in ./.venv/lib/python3.12/site-packages (from msgraph-sdk) (1.4.6)\n",
      "Requirement already satisfied: microsoft-kiota-http<2.0.0,>=1.0.0 in ./.venv/lib/python3.12/site-packages (from msgraph-sdk) (1.4.6)\n",
      "Requirement already satisfied: msgraph_core>=1.0.0 in ./.venv/lib/python3.12/site-packages (from msgraph-sdk) (1.1.6)\n",
      "Requirement already satisfied: pytz in ./.venv/lib/python3.12/site-packages (from neo4j) (2024.2)\n",
      "Requirement already satisfied: multimethod<2.0,>=1.0 in ./.venv/lib/python3.12/site-packages (from graphdatascience) (1.12)\n",
      "Requirement already satisfied: numpy<2.0 in ./.venv/lib/python3.12/site-packages (from graphdatascience) (1.26.4)\n",
      "Requirement already satisfied: pandas<3.0,>=1.0 in ./.venv/lib/python3.12/site-packages (from graphdatascience) (2.2.3)\n",
      "Requirement already satisfied: pyarrow<17.0,>=14.0.1 in ./.venv/lib/python3.12/site-packages (from graphdatascience) (16.1.0)\n",
      "Requirement already satisfied: textdistance<5.0,>=4.0 in ./.venv/lib/python3.12/site-packages (from graphdatascience) (4.6.3)\n",
      "Requirement already satisfied: tqdm<5.0,>=4.0 in ./.venv/lib/python3.12/site-packages (from graphdatascience) (4.66.5)\n",
      "Requirement already satisfied: six>=1.11.0 in ./.venv/lib/python3.12/site-packages (from azure-core>=1.31.0->azure-identity) (1.16.0)\n",
      "Requirement already satisfied: cffi>=1.12 in ./.venv/lib/python3.12/site-packages (from cryptography>=2.5->azure-identity) (1.17.1)\n",
      "Requirement already satisfied: opentelemetry-api>=1.27.0 in ./.venv/lib/python3.12/site-packages (from microsoft-kiota-abstractions<2.0.0,>=1.3.0->msgraph-sdk) (1.27.0)\n",
      "Requirement already satisfied: opentelemetry-sdk>=1.27.0 in ./.venv/lib/python3.12/site-packages (from microsoft-kiota-abstractions<2.0.0,>=1.3.0->msgraph-sdk) (1.27.0)\n",
      "Requirement already satisfied: std-uritemplate<2.0.0,>=0.0.38 in ./.venv/lib/python3.12/site-packages (from microsoft-kiota-abstractions<2.0.0,>=1.3.0->msgraph-sdk) (1.0.6)\n",
      "Requirement already satisfied: aiohttp>=3.8.0 in ./.venv/lib/python3.12/site-packages (from microsoft-kiota-authentication-azure<2.0.0,>=1.0.0->msgraph-sdk) (3.10.10)\n",
      "Requirement already satisfied: httpx<0.28,>=0.23 in ./.venv/lib/python3.12/site-packages (from httpx[http2]<0.28,>=0.23->microsoft-kiota-http<2.0.0,>=1.0.0->msgraph-sdk) (0.27.2)\n",
      "Requirement already satisfied: pendulum>=3.0.0b1 in ./.venv/lib/python3.12/site-packages (from microsoft-kiota-serialization-form>=0.1.0->msgraph-sdk) (3.0.0)\n",
      "Requirement already satisfied: python-dateutil==2.9.0.post0 in ./.venv/lib/python3.12/site-packages (from microsoft-kiota-serialization-text<2.0.0,>=1.0.0->msgraph-sdk) (2.9.0.post0)\n",
      "Requirement already satisfied: PyJWT<3,>=1.0.0 in ./.venv/lib/python3.12/site-packages (from PyJWT[crypto]<3,>=1.0.0->msal>=1.30.0->azure-identity) (2.9.0)\n",
      "Requirement already satisfied: portalocker<3,>=1.4 in ./.venv/lib/python3.12/site-packages (from msal-extensions>=1.2.0->azure-identity) (2.10.1)\n",
      "Requirement already satisfied: tzdata>=2022.7 in ./.venv/lib/python3.12/site-packages (from pandas<3.0,>=1.0->graphdatascience) (2024.2)\n",
      "Requirement already satisfied: aiohappyeyeballs>=2.3.0 in ./.venv/lib/python3.12/site-packages (from aiohttp>=3.8.0->microsoft-kiota-authentication-azure<2.0.0,>=1.0.0->msgraph-sdk) (2.4.3)\n",
      "Requirement already satisfied: aiosignal>=1.1.2 in ./.venv/lib/python3.12/site-packages (from aiohttp>=3.8.0->microsoft-kiota-authentication-azure<2.0.0,>=1.0.0->msgraph-sdk) (1.3.1)\n",
      "Requirement already satisfied: attrs>=17.3.0 in ./.venv/lib/python3.12/site-packages (from aiohttp>=3.8.0->microsoft-kiota-authentication-azure<2.0.0,>=1.0.0->msgraph-sdk) (24.2.0)\n",
      "Requirement already satisfied: frozenlist>=1.1.1 in ./.venv/lib/python3.12/site-packages (from aiohttp>=3.8.0->microsoft-kiota-authentication-azure<2.0.0,>=1.0.0->msgraph-sdk) (1.4.1)\n",
      "Requirement already satisfied: multidict<7.0,>=4.5 in ./.venv/lib/python3.12/site-packages (from aiohttp>=3.8.0->microsoft-kiota-authentication-azure<2.0.0,>=1.0.0->msgraph-sdk) (6.1.0)\n",
      "Requirement already satisfied: yarl<2.0,>=1.12.0 in ./.venv/lib/python3.12/site-packages (from aiohttp>=3.8.0->microsoft-kiota-authentication-azure<2.0.0,>=1.0.0->msgraph-sdk) (1.16.0)\n",
      "Requirement already satisfied: pycparser in ./.venv/lib/python3.12/site-packages (from cffi>=1.12->cryptography>=2.5->azure-identity) (2.22)\n",
      "Requirement already satisfied: anyio in ./.venv/lib/python3.12/site-packages (from httpx<0.28,>=0.23->httpx[http2]<0.28,>=0.23->microsoft-kiota-http<2.0.0,>=1.0.0->msgraph-sdk) (4.6.2.post1)\n",
      "Requirement already satisfied: httpcore==1.* in ./.venv/lib/python3.12/site-packages (from httpx<0.28,>=0.23->httpx[http2]<0.28,>=0.23->microsoft-kiota-http<2.0.0,>=1.0.0->msgraph-sdk) (1.0.6)\n",
      "Requirement already satisfied: sniffio in ./.venv/lib/python3.12/site-packages (from httpx<0.28,>=0.23->httpx[http2]<0.28,>=0.23->microsoft-kiota-http<2.0.0,>=1.0.0->msgraph-sdk) (1.3.1)\n",
      "Requirement already satisfied: h11<0.15,>=0.13 in ./.venv/lib/python3.12/site-packages (from httpcore==1.*->httpx<0.28,>=0.23->httpx[http2]<0.28,>=0.23->microsoft-kiota-http<2.0.0,>=1.0.0->msgraph-sdk) (0.14.0)\n",
      "Requirement already satisfied: h2<5,>=3 in ./.venv/lib/python3.12/site-packages (from httpx[http2]<0.28,>=0.23->microsoft-kiota-http<2.0.0,>=1.0.0->msgraph-sdk) (4.1.0)\n",
      "Requirement already satisfied: deprecated>=1.2.6 in ./.venv/lib/python3.12/site-packages (from opentelemetry-api>=1.27.0->microsoft-kiota-abstractions<2.0.0,>=1.3.0->msgraph-sdk) (1.2.14)\n",
      "Requirement already satisfied: importlib-metadata<=8.4.0,>=6.0 in ./.venv/lib/python3.12/site-packages (from opentelemetry-api>=1.27.0->microsoft-kiota-abstractions<2.0.0,>=1.3.0->msgraph-sdk) (8.4.0)\n",
      "Requirement already satisfied: opentelemetry-semantic-conventions==0.48b0 in ./.venv/lib/python3.12/site-packages (from opentelemetry-sdk>=1.27.0->microsoft-kiota-abstractions<2.0.0,>=1.3.0->msgraph-sdk) (0.48b0)\n",
      "Requirement already satisfied: time-machine>=2.6.0 in ./.venv/lib/python3.12/site-packages (from pendulum>=3.0.0b1->microsoft-kiota-serialization-form>=0.1.0->msgraph-sdk) (2.16.0)\n",
      "Requirement already satisfied: wrapt<2,>=1.10 in ./.venv/lib/python3.12/site-packages (from deprecated>=1.2.6->opentelemetry-api>=1.27.0->microsoft-kiota-abstractions<2.0.0,>=1.3.0->msgraph-sdk) (1.16.0)\n",
      "Requirement already satisfied: hyperframe<7,>=6.0 in ./.venv/lib/python3.12/site-packages (from h2<5,>=3->httpx[http2]<0.28,>=0.23->microsoft-kiota-http<2.0.0,>=1.0.0->msgraph-sdk) (6.0.1)\n",
      "Requirement already satisfied: hpack<5,>=4.0 in ./.venv/lib/python3.12/site-packages (from h2<5,>=3->httpx[http2]<0.28,>=0.23->microsoft-kiota-http<2.0.0,>=1.0.0->msgraph-sdk) (4.0.0)\n",
      "Requirement already satisfied: zipp>=0.5 in ./.venv/lib/python3.12/site-packages (from importlib-metadata<=8.4.0,>=6.0->opentelemetry-api>=1.27.0->microsoft-kiota-abstractions<2.0.0,>=1.3.0->msgraph-sdk) (3.20.2)\n",
      "Requirement already satisfied: propcache>=0.2.0 in ./.venv/lib/python3.12/site-packages (from yarl<2.0,>=1.12.0->aiohttp>=3.8.0->microsoft-kiota-authentication-azure<2.0.0,>=1.0.0->msgraph-sdk) (0.2.0)\n",
      "Note: you may need to restart the kernel to use updated packages.\n"
     ]
    }
   ],
   "source": [
    "%pip install requests azure-identity msgraph-sdk neo4j graphdatascience"
   ]
  },
  {
   "cell_type": "code",
   "execution_count": 50,
   "metadata": {},
   "outputs": [],
   "source": [
    "import asyncio\n",
    "import configparser\n",
    "from msgraph.generated.models.o_data_errors.o_data_error import ODataError\n",
    "\n",
    "from configparser import SectionProxy\n",
    "from azure.identity import ClientSecretCredential\n",
    "from msgraph import GraphServiceClient\n",
    "from msgraph.generated.users.item.user_item_request_builder import UserItemRequestBuilder\n",
    "from msgraph.generated.users.users_request_builder import UsersRequestBuilder\n",
    "from msgraph.generated.sites.sites_request_builder import SitesRequestBuilder\n",
    "from kiota_abstractions.base_request_configuration import RequestConfiguration"
   ]
  },
  {
   "cell_type": "code",
   "execution_count": 68,
   "metadata": {},
   "outputs": [],
   "source": [
    "class Graph:\n",
    "    settings: SectionProxy\n",
    "    client_credential: ClientSecretCredential\n",
    "    app_client: GraphServiceClient\n",
    "\n",
    "    def __init__(self, config: SectionProxy):\n",
    "        self.settings = config\n",
    "        client_id = self.settings['clientId']\n",
    "        tenant_id = self.settings['tenantId']\n",
    "        client_secret = self.settings['clientSecret']\n",
    "\n",
    "        self.client_credential = ClientSecretCredential(tenant_id, client_id, client_secret)\n",
    "        self.app_client = GraphServiceClient(self.client_credential)\n",
    "    \n",
    "    def get_app_only_token(self):\n",
    "        graph_scope = 'https://graph.microsoft.com/.default'\n",
    "        access_token = self.client_credential.get_token(graph_scope)\n",
    "        return access_token.token\n",
    "\n",
    "    def get_users(self):\n",
    "        query_params = UsersRequestBuilder.UsersRequestBuilderGetQueryParameters(\n",
    "            select=['displayName', 'id', 'mail'],\n",
    "            top=25,\n",
    "            orderby=['displayName']\n",
    "        )\n",
    "        request_config = UsersRequestBuilder.UsersRequestBuilderGetRequestConfiguration(\n",
    "            query_parameters=query_params\n",
    "        )\n",
    "\n",
    "        users = self.app_client.users.get(request_configuration=request_config)\n",
    "        return users\n"
   ]
  },
  {
   "cell_type": "code",
   "execution_count": 69,
   "metadata": {},
   "outputs": [],
   "source": [
    "config = configparser.ConfigParser()\n",
    "config.read(['config.cfg'])\n",
    "azure_settings = config['azure']\n",
    "\n",
    "graph: Graph = Graph(azure_settings)"
   ]
  },
  {
   "cell_type": "code",
   "execution_count": 70,
   "metadata": {},
   "outputs": [
    {
     "name": "stdout",
     "output_type": "stream",
     "text": [
      "App-only token: eyJ0eXAiOiJKV1QiLCJub25jZSI6ImpBSUZKUUpVOUhNUFh3WnNQMkpGWURRdURIU1ktTVY2a19tSGxOcDVsenciLCJhbGciOiJSUzI1NiIsIng1dCI6IjNQYUs0RWZ5Qk5RdTNDdGpZc2EzWW1oUTVFMCIsImtpZCI6IjNQYUs0RWZ5Qk5RdTNDdGpZc2EzWW1oUTVFMCJ9.eyJhdWQiOiJodHRwczovL2dyYXBoLm1pY3Jvc29mdC5jb20iLCJpc3MiOiJodHRwczovL3N0cy53aW5kb3dzLm5ldC82MTZmMjdlMy1kZmQzLTQ2ZTYtOWU3Ny1lMmE1NThlNWQ2MmMvIiwiaWF0IjoxNzI5NTg5NDk4LCJuYmYiOjE3Mjk1ODk0OTgsImV4cCI6MTcyOTU5MzM5OCwiYWlvIjoiazJCZ1lCQnRPcWk2TDM1THlBZkhoS3RURjd4ZkJBQT0iLCJhcHBfZGlzcGxheW5hbWUiOiJweWNvbi1ub2Rlcy1kZW1vIiwiYXBwaWQiOiI1ZmU4YzE4OS02NmQzLTQ4ZjQtYTlkMC1hZTU4ZjAzZGM5MTYiLCJhcHBpZGFjciI6IjEiLCJpZHAiOiJodHRwczovL3N0cy53aW5kb3dzLm5ldC82MTZmMjdlMy1kZmQzLTQ2ZTYtOWU3Ny1lMmE1NThlNWQ2MmMvIiwiaWR0eXAiOiJhcHAiLCJvaWQiOiI5MGFkOWE3ZC03MjhkLTQwMWMtYTNiZS0xODVlOWVhYTYwNWEiLCJyaCI6IjAuQWNZQTR5ZHZZZFBmNWthZWQtS2xXT1hXTEFNQUFBQUFBQUFBd0FBQUFBQUFBQURHQUFBLiIsInJvbGVzIjpbIlVzZXIuUmVhZC5BbGwiXSwic3ViIjoiOTBhZDlhN2QtNzI4ZC00MDFjLWEzYmUtMTg1ZTllYWE2MDVhIiwidGVuYW50X3JlZ2lvbl9zY29wZSI6IkFTIiwidGlkIjoiNjE2ZjI3ZTMtZGZkMy00NmU2LTllNzctZTJhNTU4ZTVkNjJjIiwidXRpIjoiNm1PVUNLam8wMENlRnh4c1o3Y2xBQSIsInZlciI6IjEuMCIsIndpZHMiOlsiMDk5N2ExZDAtMGQxZC00YWNiLWI0MDgtZDVjYTczMTIxZTkwIl0sInhtc19pZHJlbCI6IjcgMTAiLCJ4bXNfdGNkdCI6MTcyMjM4OTI3M30.LPeOSUl7q6YZCa5iumSig8n6Psn29_rgz0Hrj10KcnxcYwD-M-TKqVUJINnjBLSsY8lz7jmdtiiwmgBpr4HGnxfqp_7EL85L7xUk9lcPIVe5V2ezuL_8dOU12bjHR9ztrKH-OszNgRrJYeXK34rZDiXrsr6Uc-LDIxjc8FD_pHtbR4rSv2oU71PDfFjUVcODxb1A2VOkLZZ1i-fh7EKnYu5WsanAyECXd4qcPWunpYRXDbVesF9dW8jOobVbjfxW0ID1QXEuifXQBshkJrgeON0UZVEd3uNvwpam7DVh5QIpzIYoykZSG6eZUI0hJ6fp3c4U7EfTIGLjD3UgYjYBgQ\n"
     ]
    }
   ],
   "source": [
    "try:\n",
    "    token = graph.get_app_only_token()\n",
    "    print(f'App-only token: {token}')\n",
    "except ODataError as odata_error:\n",
    "    print(odata_error.error.code, odata_error.error.message)"
   ]
  },
  {
   "cell_type": "markdown",
   "metadata": {},
   "source": [
    "List users"
   ]
  },
  {
   "cell_type": "code",
   "execution_count": 66,
   "metadata": {},
   "outputs": [
    {
     "name": "stdout",
     "output_type": "stream",
     "text": [
      "Authorization_RequestDenied Insufficient privileges to complete the operation.\n"
     ]
    }
   ],
   "source": [
    "try:\n",
    "    users = await graph.get_users()\n",
    "    for user in users:\n",
    "        print(f'User: {user}')\n",
    "except ODataError as odata_error:\n",
    "    print(odata_error.error.code, odata_error.error.message)"
   ]
  },
  {
   "cell_type": "markdown",
   "metadata": {},
   "source": [
    "Get a site using the site ID"
   ]
  },
  {
   "cell_type": "code",
   "execution_count": 48,
   "metadata": {},
   "outputs": [
    {
     "ename": "ODataError",
     "evalue": "\n        APIError\n        Code: 403\n        message: None\n        error: MainError(additional_data={}, code='AccessDenied', details=None, inner_error=InnerError(additional_data={}, client_request_id='b9a00df4-45b4-4207-94fb-3ccf313e7f12', date=DateTime(2024, 10, 22, 9, 10, 39, tzinfo=Timezone('UTC')), odata_type=None, request_id='ca0193ac-9571-4ebf-b890-d0583128a08c'), message='Either scp or roles claim need to be present in the token.', target=None)\n        ",
     "output_type": "error",
     "traceback": [
      "\u001b[0;31m---------------------------------------------------------------------------\u001b[0m",
      "\u001b[0;31mODataError\u001b[0m                                Traceback (most recent call last)",
      "Cell \u001b[0;32mIn[48], line 1\u001b[0m\n\u001b[0;32m----> 1\u001b[0m result \u001b[38;5;241m=\u001b[39m \u001b[38;5;28;01mawait\u001b[39;00m graph\u001b[38;5;241m.\u001b[39mapp_client\u001b[38;5;241m.\u001b[39msites\u001b[38;5;241m.\u001b[39mby_site_id(\u001b[38;5;124m'\u001b[39m\u001b[38;5;124md4782aca-aacc-4f4f-a6d1-af9e0f41c4be\u001b[39m\u001b[38;5;124m'\u001b[39m)\u001b[38;5;241m.\u001b[39mget()\n",
      "File \u001b[0;32m~/Documents/sharepoint-knowledge-graph/.venv/lib/python3.12/site-packages/msgraph/generated/sites/item/site_item_request_builder.py:72\u001b[0m, in \u001b[0;36mSiteItemRequestBuilder.get\u001b[0;34m(self, request_configuration)\u001b[0m\n\u001b[1;32m     69\u001b[0m     \u001b[38;5;28;01mraise\u001b[39;00m \u001b[38;5;167;01mException\u001b[39;00m(\u001b[38;5;124m\"\u001b[39m\u001b[38;5;124mHttp core is null\u001b[39m\u001b[38;5;124m\"\u001b[39m) \n\u001b[1;32m     70\u001b[0m \u001b[38;5;28;01mfrom\u001b[39;00m \u001b[38;5;21;01m.\u001b[39;00m\u001b[38;5;21;01m.\u001b[39;00m\u001b[38;5;21;01m.\u001b[39;00m\u001b[38;5;21;01mmodels\u001b[39;00m\u001b[38;5;21;01m.\u001b[39;00m\u001b[38;5;21;01msite\u001b[39;00m \u001b[38;5;28;01mimport\u001b[39;00m Site\n\u001b[0;32m---> 72\u001b[0m \u001b[38;5;28;01mreturn\u001b[39;00m \u001b[38;5;28;01mawait\u001b[39;00m \u001b[38;5;28mself\u001b[39m\u001b[38;5;241m.\u001b[39mrequest_adapter\u001b[38;5;241m.\u001b[39msend_async(request_info, Site, error_mapping)\n",
      "File \u001b[0;32m~/Documents/sharepoint-knowledge-graph/.venv/lib/python3.12/site-packages/kiota_http/httpx_request_adapter.py:189\u001b[0m, in \u001b[0;36mHttpxRequestAdapter.send_async\u001b[0;34m(self, request_info, parsable_factory, error_map)\u001b[0m\n\u001b[1;32m    186\u001b[0m     parent_span\u001b[38;5;241m.\u001b[39madd_event(RESPONSE_HANDLER_EVENT_INVOKED_KEY)\n\u001b[1;32m    187\u001b[0m     \u001b[38;5;28;01mreturn\u001b[39;00m \u001b[38;5;28;01mawait\u001b[39;00m response_handler\u001b[38;5;241m.\u001b[39mhandle_response_async(response, error_map)\n\u001b[0;32m--> 189\u001b[0m \u001b[38;5;28;01mawait\u001b[39;00m \u001b[38;5;28mself\u001b[39m\u001b[38;5;241m.\u001b[39mthrow_failed_responses(response, error_map, parent_span, parent_span)\n\u001b[1;32m    190\u001b[0m \u001b[38;5;28;01mif\u001b[39;00m \u001b[38;5;28mself\u001b[39m\u001b[38;5;241m.\u001b[39m_should_return_none(response):\n\u001b[1;32m    191\u001b[0m     \u001b[38;5;28;01mreturn\u001b[39;00m \u001b[38;5;28;01mNone\u001b[39;00m\n",
      "File \u001b[0;32m~/Documents/sharepoint-knowledge-graph/.venv/lib/python3.12/site-packages/kiota_http/httpx_request_adapter.py:512\u001b[0m, in \u001b[0;36mHttpxRequestAdapter.throw_failed_responses\u001b[0;34m(self, response, error_map, parent_span, attribute_span)\u001b[0m\n\u001b[1;32m    503\u001b[0m         exc \u001b[38;5;241m=\u001b[39m APIError(\n\u001b[1;32m    504\u001b[0m             (\n\u001b[1;32m    505\u001b[0m                 \u001b[38;5;124m\"\u001b[39m\u001b[38;5;124mThe server returned an unexpected status code and the error registered\u001b[39m\u001b[38;5;124m\"\u001b[39m\n\u001b[0;32m   (...)\u001b[0m\n\u001b[1;32m    509\u001b[0m             response_headers,  \u001b[38;5;66;03m# type: ignore\u001b[39;00m\n\u001b[1;32m    510\u001b[0m         )\n\u001b[1;32m    511\u001b[0m     _get_obj_span\u001b[38;5;241m.\u001b[39mend()\n\u001b[0;32m--> 512\u001b[0m     \u001b[38;5;28;01mraise\u001b[39;00m exc\n\u001b[1;32m    513\u001b[0m \u001b[38;5;28;01mfinally\u001b[39;00m:\n\u001b[1;32m    514\u001b[0m     _throw_failed_resp_span\u001b[38;5;241m.\u001b[39mend()\n",
      "\u001b[0;31mODataError\u001b[0m: \n        APIError\n        Code: 403\n        message: None\n        error: MainError(additional_data={}, code='AccessDenied', details=None, inner_error=InnerError(additional_data={}, client_request_id='b9a00df4-45b4-4207-94fb-3ccf313e7f12', date=DateTime(2024, 10, 22, 9, 10, 39, tzinfo=Timezone('UTC')), odata_type=None, request_id='ca0193ac-9571-4ebf-b890-d0583128a08c'), message='Either scp or roles claim need to be present in the token.', target=None)\n        "
     ]
    }
   ],
   "source": [
    "result = await graph.app_client.sites.by_site_id('d4782aca-aacc-4f4f-a6d1-af9e0f41c4be').get()"
   ]
  },
  {
   "cell_type": "code",
   "execution_count": null,
   "metadata": {},
   "outputs": [],
   "source": []
  }
 ],
 "metadata": {
  "kernelspec": {
   "display_name": ".venv",
   "language": "python",
   "name": "python3"
  },
  "language_info": {
   "codemirror_mode": {
    "name": "ipython",
    "version": 3
   },
   "file_extension": ".py",
   "mimetype": "text/x-python",
   "name": "python",
   "nbconvert_exporter": "python",
   "pygments_lexer": "ipython3",
   "version": "3.12.3"
  }
 },
 "nbformat": 4,
 "nbformat_minor": 2
}
