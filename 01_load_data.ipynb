{
 "cells": [
  {
   "cell_type": "code",
   "execution_count": null,
   "metadata": {},
   "outputs": [],
   "source": [
    "%pip install pandas beautifulsoup4 neo4j graphdatascience jupyter"
   ]
  },
  {
   "cell_type": "code",
   "execution_count": null,
   "metadata": {},
   "outputs": [],
   "source": [
    "import os\n",
    "import json\n",
    "import pandas as pd \n",
    "from bs4 import BeautifulSoup, NavigableString, Tag\n",
    "from urllib.parse import urlparse, urljoin\n",
    "from graphdatascience import GraphDataScience\n",
    "from neo4j import GraphDatabase\n",
    "\n",
    "BASE_URL = 'https://muarwi.sharepoint.com/' # replace it with your Sharepoint base URL.\n",
    "DATA_DIR = 'data'"
   ]
  },
  {
   "cell_type": "code",
   "execution_count": null,
   "metadata": {},
   "outputs": [],
   "source": [
    "username = 'neo4j'      # Username to access Neo4j\n",
    "password = ''           # Password to access Neo4j\n",
    "uri = ''                # Neo4j URI"
   ]
  },
  {
   "cell_type": "markdown",
   "metadata": {},
   "source": [
    "## Test connection"
   ]
  },
  {
   "cell_type": "code",
   "execution_count": 3,
   "metadata": {},
   "outputs": [
    {
     "name": "stdout",
     "output_type": "stream",
     "text": [
      "connection established.\n"
     ]
    }
   ],
   "source": [
    "with GraphDatabase.driver(uri, auth=(username, password)) as driver:\n",
    "    driver.verify_connectivity()\n",
    "    print('connection established.')"
   ]
  },
  {
   "cell_type": "markdown",
   "metadata": {},
   "source": [
    "## Helpers"
   ]
  },
  {
   "cell_type": "code",
   "execution_count": 4,
   "metadata": {},
   "outputs": [],
   "source": [
    "class CustomBeautifulSoup(BeautifulSoup):\n",
    "    \"\"\" \n",
    "    Customize `get_text()` method to include URL link in <a> tag.\n",
    "    \"\"\"\n",
    "    def get_text(self, separator='', strip=False, types=(NavigableString,)):\n",
    "        text_parts = []\n",
    "\n",
    "        for element in self.descendants:\n",
    "            if isinstance(element, NavigableString):\n",
    "                text_parts.append(str(element))\n",
    "            elif isinstance(element, Tag):\n",
    "                if element.name == 'a' and 'href' in element.attrs:\n",
    "                    text_parts.append(element.get_text(separator=separator, strip=strip))\n",
    "                    text_parts.append(f'{element[\"href\"]}')\n",
    "            elif isinstance(element, types):\n",
    "                text_parts.append(element.get_text(separator=separator, strip=strip))\n",
    "        \n",
    "        return separator.join(text_parts)\n"
   ]
  },
  {
   "cell_type": "code",
   "execution_count": 5,
   "metadata": {},
   "outputs": [],
   "source": [
    "def get_uri_content_type(uri):\n",
    "    \"\"\"\n",
    "    A quick and naive way to get object type from a URL. \n",
    "    \"\"\"\n",
    "    if uri.startswith('mailto:'):\n",
    "        return 'Email'\n",
    "    elif uri.lower().endswith(('.pdf', '.doc', '.docx', '.xls', '.xlsx', '.ppt', '.pptx')):\n",
    "        return 'Document'\n",
    "    else:\n",
    "        return 'WebPage'"
   ]
  },
  {
   "cell_type": "code",
   "execution_count": 6,
   "metadata": {},
   "outputs": [],
   "source": [
    "def convert_relative_url(url):\n",
    "    \"\"\"\n",
    "    Check the URL: if it is a relative URL, append BASE_URL.\n",
    "    \"\"\"\n",
    "    if urlparse(url).netloc:\n",
    "        return url\n",
    "    else:\n",
    "        return urljoin(BASE_URL, url)"
   ]
  },
  {
   "cell_type": "code",
   "execution_count": 7,
   "metadata": {},
   "outputs": [],
   "source": [
    "def get_composite_id(webpart_id, page_id):\n",
    "    \"\"\" \n",
    "    Create a composite ID for a webpart in a page. We need it because the webpart ID is not unique across pages.\n",
    "    \"\"\"\n",
    "    return f'{page_id}#{webpart_id}'"
   ]
  },
  {
   "cell_type": "markdown",
   "metadata": {},
   "source": [
    "## Methods to parse specific webparts"
   ]
  },
  {
   "cell_type": "markdown",
   "metadata": {},
   "source": [
    "### `textWebPart`"
   ]
  },
  {
   "cell_type": "code",
   "execution_count": 8,
   "metadata": {},
   "outputs": [],
   "source": [
    "def get_textWebPart(web_part, page_id)->object:\n",
    "    \"\"\" \n",
    "    Get `textWebPart`\n",
    "\n",
    "    Output structure:\n",
    "    {\n",
    "        'web_part': 'text_web_part',\n",
    "        'text': <inner text from HTML>,\n",
    "        'linked_to': [\n",
    "            {\n",
    "                type: 'page|email|docs|video|image|...',\n",
    "                uri: <uri>\n",
    "            },\n",
    "            ...\n",
    "        ]\n",
    "    }\n",
    "    \"\"\"\n",
    "    custom_bs = CustomBeautifulSoup(web_part['innerHtml'], 'html.parser')\n",
    "    text = custom_bs.get_text('\\n', strip=True)\n",
    "    links = [convert_relative_url(a['href']) \n",
    "             for a in custom_bs.find_all('a', href=True)]\n",
    "    twp = {\n",
    "        'web_part': 'text_web_part',\n",
    "        'id': get_composite_id(web_part['id'], page_id),\n",
    "        'content': 'Text',\n",
    "        'text': text,\n",
    "        'linked_to': [{'type': get_uri_content_type(i), 'uri': i} for i in links]\n",
    "    }\n",
    "    return twp"
   ]
  },
  {
   "cell_type": "markdown",
   "metadata": {},
   "source": [
    "### `StandardWebPart`"
   ]
  },
  {
   "cell_type": "markdown",
   "metadata": {},
   "source": [
    "#### Call-to-action"
   ]
  },
  {
   "cell_type": "code",
   "execution_count": 9,
   "metadata": {},
   "outputs": [],
   "source": [
    "def get_text_from_callToAction(web_part)->str:\n",
    "    \"\"\"Process webPart callToAction (id `df8e44e7-edd5-46d5-90da-aca1539313b8`)\"\"\"\n",
    "    text = []\n",
    "    processed_content = web_part['data']['serverProcessedContent']\n",
    "    # overlay text\n",
    "    overlay_text = next(item['value'] for item in processed_content['searchablePlainTexts'] if item['key'] == 'overlayText.text')\n",
    "    text.append(f'Overlay text: {overlay_text}')\n",
    "    # Link\n",
    "    link = next(convert_relative_url(item['value']) for item in processed_content['links'] if item['key'] == 'button.linkUrl')\n",
    "    text.append(f'Link: {link}')\n",
    "\n",
    "    return '\\n'.join(text)\n",
    "\n",
    "\n",
    "def get_swp_call_to_action(web_part, page_id):\n",
    "    '''\n",
    "    df8e44e7-edd5-46d5-90da-aca1539313b8\n",
    "    '''\n",
    "    text = get_text_from_callToAction(web_part)\n",
    "    processed_content = web_part['data']['serverProcessedContent']\n",
    "    url = next(convert_relative_url(item['value']) for item in processed_content['links'] if item['key'] == 'button.linkUrl')\n",
    "    cta = {\n",
    "        'web_part': 'standard_web_part',\n",
    "        'id': get_composite_id(web_part['id'], page_id),\n",
    "        'content': 'CallToAction',\n",
    "        'text': text,\n",
    "        'linked_to': [{'type': get_uri_content_type(url), 'uri': url}]\n",
    "    }\n",
    "\n",
    "    return cta"
   ]
  },
  {
   "cell_type": "markdown",
   "metadata": {},
   "source": [
    "#### File and Media"
   ]
  },
  {
   "cell_type": "code",
   "execution_count": 10,
   "metadata": {},
   "outputs": [],
   "source": [
    "def get_text_from_fileAndMedia(web_part)->str:\n",
    "    \"\"\"Process webpart fileAndMedia (id `b7dd04e1-19ce-4b24-9132-b60a1c2b910d`)\"\"\"\n",
    "    text = []\n",
    "    processed_content = web_part['data']['serverProcessedContent']\n",
    "    # text\n",
    "    text += [f'{item[\"key\"]}: {item[\"value\"]}' for item in processed_content['searchablePlainTexts']]\n",
    "    # relative link\n",
    "    text += [f'{item[\"key\"]}: {convert_relative_url(item[\"value\"])}' \n",
    "             for item in processed_content['links'] if item['key'] == 'serverRelativeUrl']\n",
    "\n",
    "    return '\\n'.join(text)\n",
    "\n",
    "\n",
    "def get_swp_file_and_media(web_part, page_id):\n",
    "    ''' \n",
    "    Only contains 1 link to a file or media.\n",
    "    '''\n",
    "    text = get_text_from_fileAndMedia(web_part)\n",
    "    url = convert_relative_url(web_part['data']['properties']['file'])\n",
    "    fam = {\n",
    "        'web_part': 'standard_web_part',\n",
    "        'id': get_composite_id(web_part['id'], page_id),\n",
    "        'content': 'FileAndMedia',\n",
    "        'text': text,\n",
    "        'linked_to': [{'type': get_uri_content_type(url), 'uri': url}]\n",
    "    }\n",
    "    return fam"
   ]
  },
  {
   "cell_type": "markdown",
   "metadata": {},
   "source": [
    "#### People"
   ]
  },
  {
   "cell_type": "code",
   "execution_count": 11,
   "metadata": {},
   "outputs": [],
   "source": [
    "def get_text_from_people(web_part)->str:\n",
    "    \"\"\"\n",
    "    Process webpart with type `7f718435-ee4d-431c-bdbf-9c4ff326f46e`\n",
    "    \"\"\"\n",
    "    processed_content = web_part['data']['serverProcessedContent']\n",
    "    persons = web_part['data']['properties']['persons']\n",
    "    spt = processed_content['searchablePlainTexts']\n",
    "\n",
    "    text = []\n",
    "\n",
    "    # title\n",
    "    text.append(next(item['value'] for item in processed_content['searchablePlainTexts'] if item['key'] == 'title'))\n",
    "    # Augment persons data\n",
    "    for idx, person in enumerate(persons):\n",
    "        person['name'] = next(item['value'] for item in spt if item['key'] == f'persons[{str(idx)}].name')\n",
    "        person['email'] = next(item['value'] for item in spt if item['key'] == f'persons[{idx}].email')\n",
    " \n",
    "    text += [f'name: {person[\"name\"]}, role: {person[\"role\"]}, email: {person[\"email\"]}' for person in persons]\n",
    "\n",
    "    return '\\n'.join(text)\n",
    "\n",
    "\n",
    "def get_swp_people(web_part, page_id):\n",
    "    '''\n",
    "    7f718435-ee4d-431c-bdbf-9c4ff326f46e \n",
    "    '''\n",
    "    text = get_text_from_people(web_part)\n",
    "    persons = web_part['data']['properties']['persons']\n",
    "    spt = web_part['data']['serverProcessedContent']['searchablePlainTexts']\n",
    "\n",
    "    people = {\n",
    "        'web_part': 'standard_web_part',\n",
    "        'id': get_composite_id(web_part['id'], page_id),\n",
    "        'content': 'People',\n",
    "        'text': text,\n",
    "        'linked_to': [{\n",
    "                        'id': person['id'],\n",
    "                        'name': next(item['value'] for item in spt if item['key'] == f'persons[{str(idx)}].name'),\n",
    "                        'email': next(item['value'] for item in spt if item['key'] == f'persons[{idx}].email'),\n",
    "                        'role': person['role']\n",
    "                    } for idx, person in enumerate(persons)]\n",
    "    }\n",
    "\n",
    "    return people"
   ]
  },
  {
   "cell_type": "markdown",
   "metadata": {},
   "source": [
    "#### Image"
   ]
  },
  {
   "cell_type": "code",
   "execution_count": 12,
   "metadata": {},
   "outputs": [],
   "source": [
    "def get_text_from_image(web_part)->str:\n",
    "    \"\"\"\n",
    "    Process webpart with type `d1d91016-032f-456d-98a4-721247c305e8`\n",
    "    \"\"\"\n",
    "    text = []\n",
    "    processed_content = web_part['data']['serverProcessedContent']\n",
    "\n",
    "    for idx in range(len(processed_content['imageSources'])):\n",
    "        if processed_content['searchablePlainTexts']:\n",
    "            caption = processed_content['searchablePlainTexts'][0]['value']\n",
    "            text.append(f'Caption: {caption}')\n",
    "\n",
    "        url_value = convert_relative_url(processed_content[\"imageSources\"][idx][\"value\"])\n",
    "        text.append(f'Image source: {url_value}')\n",
    "\n",
    "    return '\\n'.join(text)\n",
    "\n",
    "\n",
    "\n",
    "def get_swp_image(web_part, page_id):\n",
    "    ''' \n",
    "    d1d91016-032f-456d-98a4-721247c305e8\n",
    "    '''\n",
    "    text = get_text_from_image(web_part)\n",
    "\n",
    "    img = {\n",
    "        'web_part': 'standard_web_part',\n",
    "        'id': get_composite_id(web_part['id'], page_id),\n",
    "        'content': 'Image',\n",
    "        'text': text,\n",
    "        'linked_to': [{\n",
    "            'uri': convert_relative_url(web_part['data']['serverProcessedContent']['imageSources'][0]['value'])\n",
    "        }]\n",
    "    }\n",
    "\n",
    "\n",
    "    return img"
   ]
  },
  {
   "cell_type": "markdown",
   "metadata": {},
   "source": [
    "#### Quick Links"
   ]
  },
  {
   "cell_type": "code",
   "execution_count": 13,
   "metadata": {},
   "outputs": [],
   "source": [
    "def get_text_from_quickLinks(web_part)->str:\n",
    "    \"\"\"\n",
    "    Process webpart with type `c70391ea-0b10-4ee9-b2b4-006d3fcad0cd`\n",
    "    \"\"\"\n",
    "    text = []\n",
    "    processed_content = web_part['data']['serverProcessedContent']\n",
    "    item_properties = web_part['data']['properties']['items']\n",
    "    searchable_plain_texts = processed_content['searchablePlainTexts']\n",
    "    links = processed_content['links']\n",
    "\n",
    "    # get the total amount of links \n",
    "    total_links = len(item_properties)\n",
    "\n",
    "    # Get title\n",
    "    title = next((f'Title: {item[\"value\"]}' for item in searchable_plain_texts if item['key'] == 'title'), None)\n",
    "    if title:\n",
    "        text.append(title)\n",
    "    \n",
    "    # Get quick links. \n",
    "    for idx in range(total_links):\n",
    "        title = next((f'Document title: {item[\"value\"]}' for item in searchable_plain_texts \n",
    "                      if item['key'] == f'items[{idx}].title'), None)\n",
    "        link = next((f'Link: {convert_relative_url(item[\"value\"])}' \n",
    "                     for item in links if item['key'] == f'items[{idx}].sourceItem.url'), None)\n",
    "        \n",
    "        text.append(f'{title}, {link}')\n",
    "\n",
    "    return '\\n'.join(text)\n",
    "\n",
    "\n",
    "def get_swp_quicklinks(web_part, page_id):\n",
    "    ''' \n",
    "    c70391ea-0b10-4ee9-b2b4-006d3fcad0cd\n",
    "    TODO merge code from get_Text_from_quickLinks() to here.\n",
    "    '''\n",
    "    text = get_text_from_quickLinks(web_part)\n",
    "    links = web_part['data']['serverProcessedContent']['links']\n",
    "\n",
    "    linked_to = []\n",
    "    for idx in range(len(links)):\n",
    "        link = next((convert_relative_url(item[\"value\"]) for item in links if item['key'] == f'items[{idx}].sourceItem.url'), None)\n",
    "        if link:\n",
    "            linked_to.append({'type': get_uri_content_type(link), 'uri': convert_relative_url(link)})\n",
    "\n",
    "    ql = {\n",
    "        'web_part': 'standard_web_part',\n",
    "        'id': get_composite_id(web_part['id'], page_id),\n",
    "        'content': 'QuickLinks',\n",
    "        'text': text,\n",
    "        'linked_to': linked_to\n",
    "    }\n",
    "    return ql"
   ]
  },
  {
   "cell_type": "markdown",
   "metadata": {},
   "source": [
    "#### Title Area"
   ]
  },
  {
   "cell_type": "code",
   "execution_count": 14,
   "metadata": {},
   "outputs": [],
   "source": [
    "def get_authors_from_titleArea(web_part):\n",
    "    authors = web_part['data']['properties']['authors']\n",
    "    authors_list = [{'id': a['id'], 'name': a['name'], 'email': a['email'], 'role': a['role'] } for a in authors]\n",
    "\n",
    "    return authors_list\n",
    "\n",
    "\n",
    "def get_text_from_titleArea(web_part)->str:\n",
    "    \"\"\"Get title from Title Area\"\"\"\n",
    "    text = []\n",
    "    title = web_part['data']['properties']['title']\n",
    "\n",
    "    authors_list = get_authors_from_titleArea(web_part)\n",
    "    \n",
    "    authors_txt = ''\n",
    "    for author in authors_list:\n",
    "        authors_txt += f'{author[\"name\"]} ({author[\"email\"]}) '\n",
    "\n",
    "    text.append(f'Title: {title}')\n",
    "    text.append(f'Author: {authors_txt}')\n",
    "\n",
    "    return '\\n'.join(text)\n",
    "\n",
    "\n",
    "def get_swp_titleArea(web_part, page_id):\n",
    "    \"\"\"cbe7b0a9-3504-44dd-a3a3-0e5cacd07788\"\"\"\n",
    "    text = get_text_from_titleArea(web_part)\n",
    "    \n",
    "    ta = {\n",
    "        'web_part': 'standard_web_part',\n",
    "        'id': get_composite_id(web_part['id'], page_id),\n",
    "        'content': 'TitleArea',\n",
    "        'text': text,\n",
    "        'authors': get_authors_from_titleArea(web_part)\n",
    "    }\n",
    "\n",
    "    return ta"
   ]
  },
  {
   "cell_type": "markdown",
   "metadata": {},
   "source": [
    "#### Link Preview"
   ]
  },
  {
   "cell_type": "code",
   "execution_count": 15,
   "metadata": {},
   "outputs": [],
   "source": [
    "def get_text_from_linkPreview(web_part)->str:\n",
    "    \"\"\"get text from link preview\"\"\"\n",
    "    text = []\n",
    "    processed_content = web_part['data']['serverProcessedContent']\n",
    "    # Plain text\n",
    "    text += [f'{item[\"key\"]}: {item[\"value\"]}' for item in processed_content['searchablePlainTexts']]\n",
    "    # Link(s)\n",
    "    text += [f'{item[\"key\"]}: {convert_relative_url(item[\"value\"])}' \n",
    "             for item in processed_content['links'] if item['key'] == 'serverRelativeUrl']\n",
    "\n",
    "    return '\\n'.join(text)\n",
    "\n",
    "\n",
    "def get_swp_linkPreview(web_part, page_id):\n",
    "    \"\"\"6410b3b6-d440-4663-8744-378976dc041e\"\"\"\n",
    "    text = get_text_from_linkPreview(web_part)\n",
    "    url = web_part['data']['serverProcessedContent']['links'][0]['value']\n",
    "\n",
    "    link_preview = {\n",
    "        'web_part': 'standard_web_part',\n",
    "        'id': get_composite_id(web_part['id'], page_id),\n",
    "        'content': 'LinkPreview',\n",
    "        'text': text,\n",
    "        'linked_to': [{'type': get_uri_content_type(url), 'uri': url}]\n",
    "    }\n",
    "    return link_preview"
   ]
  },
  {
   "cell_type": "markdown",
   "metadata": {},
   "source": [
    "#### Get standardWebPart from a webPart component"
   ]
  },
  {
   "cell_type": "code",
   "execution_count": 16,
   "metadata": {},
   "outputs": [],
   "source": [
    "def get_standardWebPart(wp, page_id)->object:\n",
    "    \"\"\" \n",
    "    schema:\n",
    "    {\n",
    "        'web_part': 'standard_web_part',\n",
    "        'content': 'call_to_action|file_and_media|people|image|quick_links',\n",
    "        'data': [{<data-specific-to-content-type>}]\n",
    "    }\n",
    "    \"\"\"\n",
    "    swp = {}\n",
    "    if wp['webPartType'] == 'df8e44e7-edd5-46d5-90da-aca1539313b8':  # call-to-action\n",
    "        swp = get_swp_call_to_action(wp, page_id)\n",
    "    elif wp['webPartType'] == 'b7dd04e1-19ce-4b24-9132-b60a1c2b910d':  # File and media\n",
    "        swp = get_swp_file_and_media(wp, page_id)\n",
    "    elif wp['webPartType'] == '7f718435-ee4d-431c-bdbf-9c4ff326f46e':  # people\n",
    "        swp = get_swp_people(wp, page_id)\n",
    "    elif wp['webPartType'] == 'd1d91016-032f-456d-98a4-721247c305e8':  # Image\n",
    "        swp = get_swp_image(wp, page_id)\n",
    "    elif wp['webPartType'] == 'c70391ea-0b10-4ee9-b2b4-006d3fcad0cd':  # Quick links\n",
    "        swp = get_swp_quicklinks(wp, page_id)\n",
    "    elif wp['webPartType'] == 'cbe7b0a9-3504-44dd-a3a3-0e5cacd07788':  # Title Area\n",
    "        swp = get_swp_titleArea(wp, page_id)\n",
    "    elif wp['webPartType'] == '6410b3b6-d440-4663-8744-378976dc041e':  # Link Preview\n",
    "        swp = get_swp_linkPreview(wp, page_id)\n",
    "    else:\n",
    "        print(f'Unknown `standard web part` type: {wp[\"webPartType\"]}. \\nSkipped: {wp}')\n",
    "\n",
    "    return swp"
   ]
  },
  {
   "cell_type": "code",
   "execution_count": 17,
   "metadata": {},
   "outputs": [],
   "source": [
    "def add_webpart_order(webparts):\n",
    "    \"\"\"\n",
    "    Add order number to webparts so that it can be sequenced.\n",
    "    \"\"\"\n",
    "    for idx, wp in enumerate(webparts):\n",
    "        wp['order'] = idx\n",
    "    return webparts"
   ]
  },
  {
   "cell_type": "markdown",
   "metadata": {},
   "source": [
    "### Get all WebParts"
   ]
  },
  {
   "cell_type": "code",
   "execution_count": 18,
   "metadata": {},
   "outputs": [],
   "source": [
    "def get_webparts(canvas_layout, page_id)->list[object]:\n",
    "    \"\"\"\n",
    "    Only processes `horizontalSections`.\n",
    "    \"\"\"\n",
    "    print(f'Working on {page_id}')\n",
    "\n",
    "    webparts = []\n",
    "\n",
    "    if 'horizontalSections' in canvas_layout:\n",
    "        for hs in canvas_layout['horizontalSections']:\n",
    "            if 'columns' in hs:\n",
    "                for col in hs['columns']:\n",
    "                    if 'webparts' in col:\n",
    "                        for wp in col['webparts']:\n",
    "                            if wp['@odata.type'] == '#microsoft.graph.textWebPart':\n",
    "                                twp = get_textWebPart(wp, page_id)\n",
    "                                if twp:\n",
    "                                    webparts.append(twp)\n",
    "                            elif wp['@odata.type'] == '#microsoft.graph.standardWebPart':\n",
    "                                swp = get_standardWebPart(wp, page_id)\n",
    "                                if swp:  # skip unknown standard-web-part\n",
    "                                    webparts.append(swp)\n",
    "                            else:\n",
    "                                print(f'Unknown `webpart` type: {wp[\"@odata.type\"]}')\n",
    "    webparts = add_webpart_order(webparts)\n",
    "    return webparts"
   ]
  },
  {
   "cell_type": "markdown",
   "metadata": {},
   "source": [
    "## Load page data"
   ]
  },
  {
   "cell_type": "code",
   "execution_count": 28,
   "metadata": {},
   "outputs": [],
   "source": [
    "pages = []\n",
    "\n",
    "for filename in os.listdir(DATA_DIR):\n",
    "    with open(os.path.join(DATA_DIR, filename), 'r') as f:\n",
    "        pages.append(json.load(f))"
   ]
  },
  {
   "cell_type": "code",
   "execution_count": 29,
   "metadata": {},
   "outputs": [
    {
     "data": {
      "text/html": [
       "<div>\n",
       "<style scoped>\n",
       "    .dataframe tbody tr th:only-of-type {\n",
       "        vertical-align: middle;\n",
       "    }\n",
       "\n",
       "    .dataframe tbody tr th {\n",
       "        vertical-align: top;\n",
       "    }\n",
       "\n",
       "    .dataframe thead th {\n",
       "        text-align: right;\n",
       "    }\n",
       "</style>\n",
       "<table border=\"1\" class=\"dataframe\">\n",
       "  <thead>\n",
       "    <tr style=\"text-align: right;\">\n",
       "      <th></th>\n",
       "      <th>id</th>\n",
       "      <th>@odata.context</th>\n",
       "      <th>canvasLayout@odata.context</th>\n",
       "      <th>name</th>\n",
       "      <th>webUrl</th>\n",
       "      <th>canvasLayout</th>\n",
       "    </tr>\n",
       "  </thead>\n",
       "  <tbody>\n",
       "    <tr>\n",
       "      <th>0</th>\n",
       "      <td>91ce1a95-8b21-4c3c-bb3a-69c0cd294f98</td>\n",
       "      <td>https://graph.microsoft.com/v1.0/$metadata#sit...</td>\n",
       "      <td>https://graph.microsoft.com/v1.0/$metadata#sit...</td>\n",
       "      <td>IoT-Smart-Manufacturing.aspx</td>\n",
       "      <td>https://muarwi.sharepoint.com/sites/XYZKnowled...</td>\n",
       "      <td>{'horizontalSections@odata.context': 'https://...</td>\n",
       "    </tr>\n",
       "    <tr>\n",
       "      <th>1</th>\n",
       "      <td>f6a2be01-0fd8-4937-aa78-0df82539e0af</td>\n",
       "      <td>https://graph.microsoft.com/v1.0/$metadata#sit...</td>\n",
       "      <td>https://graph.microsoft.com/v1.0/$metadata#sit...</td>\n",
       "      <td>IoT-Environment.aspx</td>\n",
       "      <td>https://muarwi.sharepoint.com/sites/XYZKnowled...</td>\n",
       "      <td>{'horizontalSections@odata.context': 'https://...</td>\n",
       "    </tr>\n",
       "    <tr>\n",
       "      <th>2</th>\n",
       "      <td>fc8157b4-cb7f-482e-8afb-800688fd8ee8</td>\n",
       "      <td>https://graph.microsoft.com/v1.0/$metadata#sit...</td>\n",
       "      <td>https://graph.microsoft.com/v1.0/$metadata#sit...</td>\n",
       "      <td>Home.aspx</td>\n",
       "      <td>https://muarwi.sharepoint.com/sites/XYZKnowled...</td>\n",
       "      <td>{'horizontalSections@odata.context': 'https://...</td>\n",
       "    </tr>\n",
       "    <tr>\n",
       "      <th>3</th>\n",
       "      <td>8199d80c-b674-4b9e-8782-b175dbf22437</td>\n",
       "      <td>https://graph.microsoft.com/v1.0/$metadata#sit...</td>\n",
       "      <td>https://graph.microsoft.com/v1.0/$metadata#sit...</td>\n",
       "      <td>IoT-Asset-Performance-Management.aspx</td>\n",
       "      <td>https://muarwi.sharepoint.com/sites/XYZKnowled...</td>\n",
       "      <td>{'horizontalSections@odata.context': 'https://...</td>\n",
       "    </tr>\n",
       "  </tbody>\n",
       "</table>\n",
       "</div>"
      ],
      "text/plain": [
       "                                     id  \\\n",
       "0  91ce1a95-8b21-4c3c-bb3a-69c0cd294f98   \n",
       "1  f6a2be01-0fd8-4937-aa78-0df82539e0af   \n",
       "2  fc8157b4-cb7f-482e-8afb-800688fd8ee8   \n",
       "3  8199d80c-b674-4b9e-8782-b175dbf22437   \n",
       "\n",
       "                                      @odata.context  \\\n",
       "0  https://graph.microsoft.com/v1.0/$metadata#sit...   \n",
       "1  https://graph.microsoft.com/v1.0/$metadata#sit...   \n",
       "2  https://graph.microsoft.com/v1.0/$metadata#sit...   \n",
       "3  https://graph.microsoft.com/v1.0/$metadata#sit...   \n",
       "\n",
       "                          canvasLayout@odata.context  \\\n",
       "0  https://graph.microsoft.com/v1.0/$metadata#sit...   \n",
       "1  https://graph.microsoft.com/v1.0/$metadata#sit...   \n",
       "2  https://graph.microsoft.com/v1.0/$metadata#sit...   \n",
       "3  https://graph.microsoft.com/v1.0/$metadata#sit...   \n",
       "\n",
       "                                    name  \\\n",
       "0           IoT-Smart-Manufacturing.aspx   \n",
       "1                   IoT-Environment.aspx   \n",
       "2                              Home.aspx   \n",
       "3  IoT-Asset-Performance-Management.aspx   \n",
       "\n",
       "                                              webUrl  \\\n",
       "0  https://muarwi.sharepoint.com/sites/XYZKnowled...   \n",
       "1  https://muarwi.sharepoint.com/sites/XYZKnowled...   \n",
       "2  https://muarwi.sharepoint.com/sites/XYZKnowled...   \n",
       "3  https://muarwi.sharepoint.com/sites/XYZKnowled...   \n",
       "\n",
       "                                        canvasLayout  \n",
       "0  {'horizontalSections@odata.context': 'https://...  \n",
       "1  {'horizontalSections@odata.context': 'https://...  \n",
       "2  {'horizontalSections@odata.context': 'https://...  \n",
       "3  {'horizontalSections@odata.context': 'https://...  "
      ]
     },
     "execution_count": 29,
     "metadata": {},
     "output_type": "execute_result"
    }
   ],
   "source": [
    "pages_df = pd.DataFrame(pages)\n",
    "\n",
    "pages_df.head()"
   ]
  },
  {
   "cell_type": "code",
   "execution_count": 30,
   "metadata": {},
   "outputs": [
    {
     "name": "stdout",
     "output_type": "stream",
     "text": [
      "Working on 91ce1a95-8b21-4c3c-bb3a-69c0cd294f98\n",
      "Working on f6a2be01-0fd8-4937-aa78-0df82539e0af\n",
      "Working on fc8157b4-cb7f-482e-8afb-800688fd8ee8\n",
      "Working on 8199d80c-b674-4b9e-8782-b175dbf22437\n"
     ]
    }
   ],
   "source": [
    "pages_df['webParts'] = pages_df.apply(lambda x: get_webparts(x['canvasLayout'], x['id']), axis=1)"
   ]
  },
  {
   "cell_type": "code",
   "execution_count": 31,
   "metadata": {},
   "outputs": [
    {
     "data": {
      "text/html": [
       "<div>\n",
       "<style scoped>\n",
       "    .dataframe tbody tr th:only-of-type {\n",
       "        vertical-align: middle;\n",
       "    }\n",
       "\n",
       "    .dataframe tbody tr th {\n",
       "        vertical-align: top;\n",
       "    }\n",
       "\n",
       "    .dataframe thead th {\n",
       "        text-align: right;\n",
       "    }\n",
       "</style>\n",
       "<table border=\"1\" class=\"dataframe\">\n",
       "  <thead>\n",
       "    <tr style=\"text-align: right;\">\n",
       "      <th></th>\n",
       "      <th>id</th>\n",
       "      <th>@odata.context</th>\n",
       "      <th>canvasLayout@odata.context</th>\n",
       "      <th>name</th>\n",
       "      <th>webUrl</th>\n",
       "      <th>canvasLayout</th>\n",
       "      <th>webParts</th>\n",
       "    </tr>\n",
       "  </thead>\n",
       "  <tbody>\n",
       "    <tr>\n",
       "      <th>0</th>\n",
       "      <td>91ce1a95-8b21-4c3c-bb3a-69c0cd294f98</td>\n",
       "      <td>https://graph.microsoft.com/v1.0/$metadata#sit...</td>\n",
       "      <td>https://graph.microsoft.com/v1.0/$metadata#sit...</td>\n",
       "      <td>IoT-Smart-Manufacturing.aspx</td>\n",
       "      <td>https://muarwi.sharepoint.com/sites/XYZKnowled...</td>\n",
       "      <td>{'horizontalSections@odata.context': 'https://...</td>\n",
       "      <td>[{'web_part': 'standard_web_part', 'id': '91ce...</td>\n",
       "    </tr>\n",
       "    <tr>\n",
       "      <th>1</th>\n",
       "      <td>f6a2be01-0fd8-4937-aa78-0df82539e0af</td>\n",
       "      <td>https://graph.microsoft.com/v1.0/$metadata#sit...</td>\n",
       "      <td>https://graph.microsoft.com/v1.0/$metadata#sit...</td>\n",
       "      <td>IoT-Environment.aspx</td>\n",
       "      <td>https://muarwi.sharepoint.com/sites/XYZKnowled...</td>\n",
       "      <td>{'horizontalSections@odata.context': 'https://...</td>\n",
       "      <td>[{'web_part': 'standard_web_part', 'id': 'f6a2...</td>\n",
       "    </tr>\n",
       "    <tr>\n",
       "      <th>2</th>\n",
       "      <td>fc8157b4-cb7f-482e-8afb-800688fd8ee8</td>\n",
       "      <td>https://graph.microsoft.com/v1.0/$metadata#sit...</td>\n",
       "      <td>https://graph.microsoft.com/v1.0/$metadata#sit...</td>\n",
       "      <td>Home.aspx</td>\n",
       "      <td>https://muarwi.sharepoint.com/sites/XYZKnowled...</td>\n",
       "      <td>{'horizontalSections@odata.context': 'https://...</td>\n",
       "      <td>[{'web_part': 'standard_web_part', 'id': 'fc81...</td>\n",
       "    </tr>\n",
       "    <tr>\n",
       "      <th>3</th>\n",
       "      <td>8199d80c-b674-4b9e-8782-b175dbf22437</td>\n",
       "      <td>https://graph.microsoft.com/v1.0/$metadata#sit...</td>\n",
       "      <td>https://graph.microsoft.com/v1.0/$metadata#sit...</td>\n",
       "      <td>IoT-Asset-Performance-Management.aspx</td>\n",
       "      <td>https://muarwi.sharepoint.com/sites/XYZKnowled...</td>\n",
       "      <td>{'horizontalSections@odata.context': 'https://...</td>\n",
       "      <td>[{'web_part': 'standard_web_part', 'id': '8199...</td>\n",
       "    </tr>\n",
       "  </tbody>\n",
       "</table>\n",
       "</div>"
      ],
      "text/plain": [
       "                                     id  \\\n",
       "0  91ce1a95-8b21-4c3c-bb3a-69c0cd294f98   \n",
       "1  f6a2be01-0fd8-4937-aa78-0df82539e0af   \n",
       "2  fc8157b4-cb7f-482e-8afb-800688fd8ee8   \n",
       "3  8199d80c-b674-4b9e-8782-b175dbf22437   \n",
       "\n",
       "                                      @odata.context  \\\n",
       "0  https://graph.microsoft.com/v1.0/$metadata#sit...   \n",
       "1  https://graph.microsoft.com/v1.0/$metadata#sit...   \n",
       "2  https://graph.microsoft.com/v1.0/$metadata#sit...   \n",
       "3  https://graph.microsoft.com/v1.0/$metadata#sit...   \n",
       "\n",
       "                          canvasLayout@odata.context  \\\n",
       "0  https://graph.microsoft.com/v1.0/$metadata#sit...   \n",
       "1  https://graph.microsoft.com/v1.0/$metadata#sit...   \n",
       "2  https://graph.microsoft.com/v1.0/$metadata#sit...   \n",
       "3  https://graph.microsoft.com/v1.0/$metadata#sit...   \n",
       "\n",
       "                                    name  \\\n",
       "0           IoT-Smart-Manufacturing.aspx   \n",
       "1                   IoT-Environment.aspx   \n",
       "2                              Home.aspx   \n",
       "3  IoT-Asset-Performance-Management.aspx   \n",
       "\n",
       "                                              webUrl  \\\n",
       "0  https://muarwi.sharepoint.com/sites/XYZKnowled...   \n",
       "1  https://muarwi.sharepoint.com/sites/XYZKnowled...   \n",
       "2  https://muarwi.sharepoint.com/sites/XYZKnowled...   \n",
       "3  https://muarwi.sharepoint.com/sites/XYZKnowled...   \n",
       "\n",
       "                                        canvasLayout  \\\n",
       "0  {'horizontalSections@odata.context': 'https://...   \n",
       "1  {'horizontalSections@odata.context': 'https://...   \n",
       "2  {'horizontalSections@odata.context': 'https://...   \n",
       "3  {'horizontalSections@odata.context': 'https://...   \n",
       "\n",
       "                                            webParts  \n",
       "0  [{'web_part': 'standard_web_part', 'id': '91ce...  \n",
       "1  [{'web_part': 'standard_web_part', 'id': 'f6a2...  \n",
       "2  [{'web_part': 'standard_web_part', 'id': 'fc81...  \n",
       "3  [{'web_part': 'standard_web_part', 'id': '8199...  "
      ]
     },
     "execution_count": 31,
     "metadata": {},
     "output_type": "execute_result"
    }
   ],
   "source": [
    "pages_df.head()"
   ]
  },
  {
   "cell_type": "markdown",
   "metadata": {},
   "source": [
    "## Load Data to Neo4j"
   ]
  },
  {
   "cell_type": "code",
   "execution_count": 32,
   "metadata": {},
   "outputs": [],
   "source": [
    "gds = GraphDataScience(uri, auth=(username, password))"
   ]
  },
  {
   "cell_type": "markdown",
   "metadata": {},
   "source": [
    "### Constraints"
   ]
  },
  {
   "cell_type": "code",
   "execution_count": 33,
   "metadata": {},
   "outputs": [
    {
     "data": {
      "text/html": [
       "<div>\n",
       "<style scoped>\n",
       "    .dataframe tbody tr th:only-of-type {\n",
       "        vertical-align: middle;\n",
       "    }\n",
       "\n",
       "    .dataframe tbody tr th {\n",
       "        vertical-align: top;\n",
       "    }\n",
       "\n",
       "    .dataframe thead th {\n",
       "        text-align: right;\n",
       "    }\n",
       "</style>\n",
       "<table border=\"1\" class=\"dataframe\">\n",
       "  <thead>\n",
       "    <tr style=\"text-align: right;\">\n",
       "      <th></th>\n",
       "    </tr>\n",
       "  </thead>\n",
       "  <tbody>\n",
       "  </tbody>\n",
       "</table>\n",
       "</div>"
      ],
      "text/plain": [
       "Empty DataFrame\n",
       "Columns: []\n",
       "Index: []"
      ]
     },
     "execution_count": 33,
     "metadata": {},
     "output_type": "execute_result"
    }
   ],
   "source": [
    "gds.run_cypher('CREATE CONSTRAINT PageUrlUnique IF NOT EXISTS FOR (p:Page) REQUIRE p.url IS UNIQUE')\n",
    "gds.run_cypher('CREATE CONSTRAINT WebPartIdUnique IF NOT EXISTS FOR (wp:WebPart) REQUIRE wp.id IS UNIQUE')\n",
    "gds.run_cypher('CREATE CONSTRAINT PersonIdUnique IF NOT EXISTS FOR (p:Person) REQUIRE p.id IS UNIQUE')\n",
    "gds.run_cypher('CREATE CONSTRAINT ImageUrlUnique IF NOT EXISTS FOR (i:Image) REQUIRE i.url IS UNIQUE')"
   ]
  },
  {
   "cell_type": "markdown",
   "metadata": {},
   "source": [
    "### Create `Page` and `WebPart` Nodes"
   ]
  },
  {
   "cell_type": "markdown",
   "metadata": {},
   "source": [
    "`Page` nodes and the respective `WebPart` nodes."
   ]
  },
  {
   "cell_type": "code",
   "execution_count": 34,
   "metadata": {},
   "outputs": [
    {
     "data": {
      "text/html": [
       "<div>\n",
       "<style scoped>\n",
       "    .dataframe tbody tr th:only-of-type {\n",
       "        vertical-align: middle;\n",
       "    }\n",
       "\n",
       "    .dataframe tbody tr th {\n",
       "        vertical-align: top;\n",
       "    }\n",
       "\n",
       "    .dataframe thead th {\n",
       "        text-align: right;\n",
       "    }\n",
       "</style>\n",
       "<table border=\"1\" class=\"dataframe\">\n",
       "  <thead>\n",
       "    <tr style=\"text-align: right;\">\n",
       "      <th></th>\n",
       "    </tr>\n",
       "  </thead>\n",
       "  <tbody>\n",
       "  </tbody>\n",
       "</table>\n",
       "</div>"
      ],
      "text/plain": [
       "Empty DataFrame\n",
       "Columns: []\n",
       "Index: []"
      ]
     },
     "execution_count": 34,
     "metadata": {},
     "output_type": "execute_result"
    }
   ],
   "source": [
    "gds.run_cypher(''' \n",
    "    UNWIND $data AS row\n",
    "    MERGE(page:WebPage {url: row.webUrl})\n",
    "    ON CREATE\n",
    "        SET page.name = row.name, page.id = row.id\n",
    "    ON MATCH\n",
    "        SET page.name = row.name, page.id = row.id\n",
    "\n",
    "    WITH page, row\n",
    "    UNWIND row.webParts AS wp\n",
    "        CREATE(webpart:WebPart)\n",
    "        SET webpart.id = wp.id\n",
    "        SET webpart.web_part = wp.web_part\n",
    "        SET webpart.content = wp.content\n",
    "        SET webpart.text = wp.text\n",
    "        SET webpart.order = wp.order\n",
    "    MERGE (webpart)-[:PARTS_OF]->(page)\n",
    "''',\n",
    "params={\n",
    "    'data': pages_df.to_dict(orient='records')\n",
    "})"
   ]
  },
  {
   "cell_type": "markdown",
   "metadata": {},
   "source": [
    "### Connect Web parts into sequence using `NEXT` relationship"
   ]
  },
  {
   "cell_type": "markdown",
   "metadata": {},
   "source": [
    "Create relationships between webparts to represent the order in the page."
   ]
  },
  {
   "cell_type": "code",
   "execution_count": 35,
   "metadata": {},
   "outputs": [
    {
     "data": {
      "text/html": [
       "<div>\n",
       "<style scoped>\n",
       "    .dataframe tbody tr th:only-of-type {\n",
       "        vertical-align: middle;\n",
       "    }\n",
       "\n",
       "    .dataframe tbody tr th {\n",
       "        vertical-align: top;\n",
       "    }\n",
       "\n",
       "    .dataframe thead th {\n",
       "        text-align: right;\n",
       "    }\n",
       "</style>\n",
       "<table border=\"1\" class=\"dataframe\">\n",
       "  <thead>\n",
       "    <tr style=\"text-align: right;\">\n",
       "      <th></th>\n",
       "    </tr>\n",
       "  </thead>\n",
       "  <tbody>\n",
       "  </tbody>\n",
       "</table>\n",
       "</div>"
      ],
      "text/plain": [
       "Empty DataFrame\n",
       "Columns: []\n",
       "Index: []"
      ]
     },
     "execution_count": 35,
     "metadata": {},
     "output_type": "execute_result"
    }
   ],
   "source": [
    "gds.run_cypher(''' \n",
    "    UNWIND $data AS row\n",
    "    // Create relationships between webparts to represent the order in the page.\n",
    "    match (wp:WebPart)-[:PARTS_OF]->(p:WebPage)\n",
    "    with p, apoc.coll.sortNodes( collect(wp), '^order') as webparts\n",
    "    call apoc.nodes.link(webparts, 'NEXT', {avoidDuplicates: true})\n",
    "    // Create relationships between pages and the first webpart\n",
    "    MATCH (wp:WebPart)-[r:PARTS_OF]->(p:WebPage) WHERE wp.order = 0\n",
    "    MERGE (p)-[:STARTS_FROM]->(wp)\n",
    "''',\n",
    "params={\n",
    "    'data': pages_df.to_dict(orient='records')\n",
    "})"
   ]
  },
  {
   "cell_type": "markdown",
   "metadata": {},
   "source": [
    "### Create nodes of external entities linked to each web part"
   ]
  },
  {
   "cell_type": "code",
   "execution_count": 36,
   "metadata": {},
   "outputs": [
    {
     "data": {
      "text/html": [
       "<div>\n",
       "<style scoped>\n",
       "    .dataframe tbody tr th:only-of-type {\n",
       "        vertical-align: middle;\n",
       "    }\n",
       "\n",
       "    .dataframe tbody tr th {\n",
       "        vertical-align: top;\n",
       "    }\n",
       "\n",
       "    .dataframe thead th {\n",
       "        text-align: right;\n",
       "    }\n",
       "</style>\n",
       "<table border=\"1\" class=\"dataframe\">\n",
       "  <thead>\n",
       "    <tr style=\"text-align: right;\">\n",
       "      <th></th>\n",
       "      <th>value</th>\n",
       "    </tr>\n",
       "  </thead>\n",
       "  <tbody>\n",
       "  </tbody>\n",
       "</table>\n",
       "</div>"
      ],
      "text/plain": [
       "Empty DataFrame\n",
       "Columns: [value]\n",
       "Index: []"
      ]
     },
     "execution_count": 36,
     "metadata": {},
     "output_type": "execute_result"
    }
   ],
   "source": [
    "gds.run_cypher(''' \n",
    "    UNWIND $data AS row\n",
    "    WITH row.webParts AS webparts\n",
    "    UNWIND webparts AS wp\n",
    "    UNWIND wp.linked_to AS linked_to \n",
    "    WITH wp, linked_to\n",
    "    CALL apoc.do.case(\n",
    "        [\n",
    "            wp.content = 'QuickLinks' AND linked_to.type = 'WebPage', 'MERGE (p:WebPage {url: linked_to.uri})',\n",
    "            wp.content = 'CallToAction', 'MERGE (p:WebPage {url: linked_to.uri})', \n",
    "            wp.content = 'Text' AND linked_to.type = 'Email', 'MERGE (p:Email {uri: linked_to.uri})',\n",
    "            wp.content = 'Text' AND linked_to.type = 'WebPage', 'MERGE (p:WebPage {url: linked_to.uri})',\n",
    "            wp.content = 'People', 'MERGE (p:Employee {id: linked_to.id}) ON CREATE SET p.name = linked_to.name, p.email = linked_to.email, p.role = linked_to.role',\n",
    "            wp.content = 'Image', 'MERGE (p:Image {url: linked_to.uri})',\n",
    "            wp.content = 'FileAndMedia', 'MERGE (p:FileAndMedia {url: linked_to.uri})',\n",
    "            wp.content = 'QuickLinks' AND linked_to.type = 'Document', 'MERGE (p:Document {url: linked_to.uri})',\n",
    "            wp.content = 'QuickLinks' AND linked_to.type = 'WebPage', 'MERGE (p:WebPage {url: linked_to.uri})',\n",
    "            wp.content = 'LinkPreview', 'MERGE (p:WebPage {url: linked_to.uri})'\n",
    "        ], \n",
    "        'MERGE (p:Other {type: linked_to.type})', {wp: wp, linked_to: linked_to}\n",
    "    ) YIELD value\n",
    "    RETURN value\n",
    "''',\n",
    "params={\n",
    "    'data': pages_df.to_dict(orient='records')\n",
    "})"
   ]
  },
  {
   "cell_type": "markdown",
   "metadata": {},
   "source": [
    "### Create `LINKED_TO` relationships"
   ]
  },
  {
   "cell_type": "code",
   "execution_count": 37,
   "metadata": {},
   "outputs": [
    {
     "data": {
      "text/html": [
       "<div>\n",
       "<style scoped>\n",
       "    .dataframe tbody tr th:only-of-type {\n",
       "        vertical-align: middle;\n",
       "    }\n",
       "\n",
       "    .dataframe tbody tr th {\n",
       "        vertical-align: top;\n",
       "    }\n",
       "\n",
       "    .dataframe thead th {\n",
       "        text-align: right;\n",
       "    }\n",
       "</style>\n",
       "<table border=\"1\" class=\"dataframe\">\n",
       "  <thead>\n",
       "    <tr style=\"text-align: right;\">\n",
       "      <th></th>\n",
       "      <th>value</th>\n",
       "    </tr>\n",
       "  </thead>\n",
       "  <tbody>\n",
       "  </tbody>\n",
       "</table>\n",
       "</div>"
      ],
      "text/plain": [
       "Empty DataFrame\n",
       "Columns: [value]\n",
       "Index: []"
      ]
     },
     "execution_count": 37,
     "metadata": {},
     "output_type": "execute_result"
    }
   ],
   "source": [
    "gds.run_cypher(''' \n",
    "    UNWIND $data AS row\n",
    "    WITH row.webParts AS webparts\n",
    "    UNWIND webparts AS wp\n",
    "    UNWIND wp.linked_to AS linked_to \n",
    "    WITH wp, linked_to\n",
    "    CALL apoc.do.case(\n",
    "        [\n",
    "            wp.content = 'People', 'MATCH(webpart:WebPart {id: wp.id}), (p:Employee {id: linked_to.id}) MERGE (webpart)-[:LINKED_TO]->(p)',\n",
    "            wp.content = 'Image', 'MATCH(webpart:WebPart {id: wp.id}), (i:Image {url: linked_to.uri}) MERGE (webpart)-[:LINKED_TO]->(i)',\n",
    "            wp.content = 'LinkPreview', 'MATCH(webpart:WebPart {id: wp.id}), (i:WebPage {url: linked_to.uri}) MERGE (webpart)-[:LINKED_TO]->(i)',\n",
    "            wp.content = 'Text' AND linked_to.type = 'WebPage', 'MATCH(webpart:WebPart {id: wp.id}), (i:WebPage {url: linked_to.uri}) MERGE (webpart)-[:LINKED_TO]->(i)',\n",
    "            wp.content = 'QuickLinks' AND linked_to.type = 'Document', 'MATCH(webpart:WebPart {id: wp.id}), (d:Document {url: linked_to.uri}) MERGE (webpart)-[:LINKED_TO]->(d)',\n",
    "            wp.content = 'QuickLinks' AND linked_to.type = 'WebPage', 'MATCH(webpart:WebPart {id: wp.id}), (w:WebPage {url: linked_to.uri}) MERGE (webpart)-[:LINKED_TO]->(w)',\n",
    "            wp.content = 'FileAndMedia', 'MATCH(webpart:WebPart {id: wp.id}), (fm:FileAndMedia {url: linked_to.uri}) MERGE (webpart)-[:LINKED_TO]->(fm)',\n",
    "            wp.content = 'CallToAction', 'MATCH(webpart:WebPart {id: wp.id}), (cta:WebPage {url: linked_to.uri}) MERGE (webpart)-[:LINKED_TO]->(cta)'\n",
    "        ],\n",
    "        'MATCH (webpart:WebPart {id: wp.id}), (linked {url: linked_to.url}) MERGE (webpart)-[:LINKED_TO]->(linked)',\n",
    "        {wp:wp, linked_to: linked_to}\n",
    "    ) YIELD value\n",
    "    RETURN value\n",
    "''',\n",
    "params={\n",
    "    'data': pages_df.to_dict(orient='records')\n",
    "})"
   ]
  },
  {
   "cell_type": "markdown",
   "metadata": {},
   "source": [
    "### Add Authors"
   ]
  },
  {
   "cell_type": "code",
   "execution_count": 38,
   "metadata": {},
   "outputs": [
    {
     "data": {
      "text/html": [
       "<div>\n",
       "<style scoped>\n",
       "    .dataframe tbody tr th:only-of-type {\n",
       "        vertical-align: middle;\n",
       "    }\n",
       "\n",
       "    .dataframe tbody tr th {\n",
       "        vertical-align: top;\n",
       "    }\n",
       "\n",
       "    .dataframe thead th {\n",
       "        text-align: right;\n",
       "    }\n",
       "</style>\n",
       "<table border=\"1\" class=\"dataframe\">\n",
       "  <thead>\n",
       "    <tr style=\"text-align: right;\">\n",
       "      <th></th>\n",
       "    </tr>\n",
       "  </thead>\n",
       "  <tbody>\n",
       "  </tbody>\n",
       "</table>\n",
       "</div>"
      ],
      "text/plain": [
       "Empty DataFrame\n",
       "Columns: []\n",
       "Index: []"
      ]
     },
     "execution_count": 38,
     "metadata": {},
     "output_type": "execute_result"
    }
   ],
   "source": [
    "gds.run_cypher('''\n",
    "    UNWIND $data AS row\n",
    "    WITH row.id AS pageId, row.webParts AS webparts\n",
    "    UNWIND webparts AS wp\n",
    "    WITH pageId, wp.id AS webPartId, wp WHERE wp.content='TitleArea'\n",
    "    UNWIND wp.authors AS author\n",
    "    MATCH (n:WebPart {id: webPartId})-[:PARTS_OF]->(m:WebPage {id: pageId})\n",
    "    MERGE (e:Employee {id: author.id}) ON CREATE SET e.name = author.name, e.email = author.email, e.role = author.role\n",
    "    MERGE (m)-[:AUTHORED_BY]->(e)\n",
    "''',\n",
    "params={\n",
    "    'data': pages_df.to_dict(orient='records')\n",
    "})"
   ]
  },
  {
   "cell_type": "markdown",
   "metadata": {},
   "source": []
  }
 ],
 "metadata": {
  "kernelspec": {
   "display_name": ".venv",
   "language": "python",
   "name": "python3"
  },
  "language_info": {
   "codemirror_mode": {
    "name": "ipython",
    "version": 3
   },
   "file_extension": ".py",
   "mimetype": "text/x-python",
   "name": "python",
   "nbconvert_exporter": "python",
   "pygments_lexer": "ipython3",
   "version": "3.12.3"
  }
 },
 "nbformat": 4,
 "nbformat_minor": 2
}
