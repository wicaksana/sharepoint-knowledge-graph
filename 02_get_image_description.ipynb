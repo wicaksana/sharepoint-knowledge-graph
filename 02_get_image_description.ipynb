{
 "cells": [
  {
   "cell_type": "markdown",
   "metadata": {},
   "source": [
    "# Enriching The Graph: Add Image Description"
   ]
  },
  {
   "cell_type": "markdown",
   "metadata": {},
   "source": [
    "Sometimes, the information in our Knowledge Base is presented in the format of graphic. For example, troubleshooting steps are typically depicted as a workflow image. It can be hard to search this information if the information can only retrieved visually. We can leverage LLM to automatically generate description of the images so that it can be easily queried later."
   ]
  },
  {
   "cell_type": "code",
   "execution_count": null,
   "metadata": {},
   "outputs": [],
   "source": [
    "%pip install openai neo4j"
   ]
  },
  {
   "cell_type": "code",
   "execution_count": 1,
   "metadata": {},
   "outputs": [],
   "source": [
    "from neo4j import GraphDatabase\n",
    "from openai import OpenAI"
   ]
  },
  {
   "cell_type": "code",
   "execution_count": null,
   "metadata": {},
   "outputs": [],
   "source": [
    "username = 'neo4j'\n",
    "password = ''\n",
    "uri = ''\n",
    "openai_api_key = ''"
   ]
  },
  {
   "cell_type": "markdown",
   "metadata": {},
   "source": [
    "Just for the sake of demonstration, I'll update the URL of the image to point to public image hosting so that it can be accessed by OpenAI API. The other images used in this demo are Microsoft's stock images that can be accessed publicly.\n",
    "\n",
    "The following image depicts a troubleshooting process for IoT Manufactr product."
   ]
  },
  {
   "cell_type": "code",
   "execution_count": null,
   "metadata": {},
   "outputs": [],
   "source": [
    "img_url='https://i.imgur.com/dVpGWgf.png'"
   ]
  },
  {
   "cell_type": "markdown",
   "metadata": {},
   "source": [
    "Update the image URL of the respective web part:"
   ]
  },
  {
   "cell_type": "code",
   "execution_count": 9,
   "metadata": {},
   "outputs": [],
   "source": [
    "with GraphDatabase.driver(uri, auth=(username, password)) as driver:\n",
    "    driver.execute_query(\n",
    "        '''\n",
    "        MATCH (w:WebPage {id: '91ce1a95-8b21-4c3c-bb3a-69c0cd294f98'})\n",
    "        MATCH (wp:WebPart)-[:PARTS_OF]->(w) WHERE wp.order=10\n",
    "        MATCH (wp)-[:LINKED_TO]->(i:Image)\n",
    "        SET wp.text='Image source: ' + $img_url\n",
    "        SET i.url=$img_url\n",
    "        \n",
    "        ''',img_url=img_url\n",
    "    )\n"
   ]
  },
  {
   "cell_type": "markdown",
   "metadata": {},
   "source": [
    "Next, get all image URLs from the graph."
   ]
  },
  {
   "cell_type": "code",
   "execution_count": 24,
   "metadata": {},
   "outputs": [],
   "source": [
    "images = None\n",
    "\n",
    "with GraphDatabase.driver(uri, auth=(username, password)) as driver:\n",
    "    images = driver.execute_query(\n",
    "        '''MATCH (i:Image) RETURN i.url AS url\n",
    "        '''\n",
    "    )"
   ]
  },
  {
   "cell_type": "code",
   "execution_count": 25,
   "metadata": {},
   "outputs": [],
   "source": [
    "image_links = []\n",
    "for image in images.records:\n",
    "    image_links.append(image['url'])"
   ]
  },
  {
   "cell_type": "code",
   "execution_count": 26,
   "metadata": {},
   "outputs": [
    {
     "data": {
      "text/plain": [
       "['https://cdn.hubblecontent.osi.office.net/m365content/publish/76bca189-84bb-44a3-935c-c54e7864cc9f/1273582733.jpg',\n",
       " 'https://i.imgur.com/dVpGWgf.png',\n",
       " 'https://cdn.hubblecontent.osi.office.net/m365content/publish/984eb06b-e13d-4c1c-a05c-4f1f490993f1/1025633076.jpg',\n",
       " 'https://cdn.hubblecontent.osi.office.net/m365content/publish/57db0400-6f15-406f-9050-559272b52e4c/1217424559.jpg',\n",
       " 'https://cdn.hubblecontent.osi.office.net/m365content/publish/74f4e0ab-93a2-4d44-94d5-fda2981119c7/694075824.jpg']"
      ]
     },
     "execution_count": 26,
     "metadata": {},
     "output_type": "execute_result"
    }
   ],
   "source": [
    "image_links"
   ]
  },
  {
   "cell_type": "markdown",
   "metadata": {},
   "source": [
    "Next, we'll use OpenAI to describe the content of the images above."
   ]
  },
  {
   "cell_type": "code",
   "execution_count": 27,
   "metadata": {},
   "outputs": [],
   "source": [
    "client = OpenAI(api_key=openai_api_key)\n",
    "\n",
    "def get_image_description(img_url):\n",
    "    response = client.chat.completions.create(\n",
    "        model='gpt-4o-mini',\n",
    "        messages=[\n",
    "            {\n",
    "                'role': 'user',\n",
    "                'content': [\n",
    "                    {\n",
    "                        'type': 'text',\n",
    "                        'text': 'What is in this image?'\n",
    "                    },\n",
    "                    {\n",
    "                        'type': 'image_url',\n",
    "                        'image_url': {\n",
    "                            'url': img_url\n",
    "                        }\n",
    "                    }\n",
    "                ]\n",
    "            }\n",
    "        ],\n",
    "        max_tokens=500,\n",
    "    )\n",
    "\n",
    "    return response.choices[0]"
   ]
  },
  {
   "cell_type": "code",
   "execution_count": 28,
   "metadata": {},
   "outputs": [],
   "source": [
    "res = []\n",
    "\n",
    "for url in image_links:\n",
    "    desc = get_image_description(url)\n",
    "    res.append({'url':url, 'description': desc.message.content})"
   ]
  },
  {
   "cell_type": "code",
   "execution_count": 29,
   "metadata": {},
   "outputs": [
    {
     "name": "stdout",
     "output_type": "stream",
     "text": [
      "\n",
      "==== https://cdn.hubblecontent.osi.office.net/m365content/publish/76bca189-84bb-44a3-935c-c54e7864cc9f/1273582733.jpg ====\n",
      "The image appears to depict an industrial robotic arm or manipulator, likely used in manufacturing or automation settings. The arm is shown gripping a component, and there are overlay graphics that suggest data visualization, possibly representing operational metrics or programming code. The background seems to feature a high-tech environment, often found in factories or research facilities.\n",
      "\n",
      "==== https://i.imgur.com/dVpGWgf.png ====\n",
      "The image is a flowchart titled \"Troubleshooting Guide for IoT Manufacturer.\" It outlines a series of steps to diagnose and resolve connectivity issues with an IoT device. \n",
      "\n",
      "Key steps include:\n",
      "\n",
      "1. **Check connections**: Verify that cables and adapters are connected correctly to the router.\n",
      "2. **LED indicators**: Assess if the LED indicators on the device are functioning properly.\n",
      "3. **Internet connection**: Determine if the IoT module can connect to the internet with a cable.\n",
      "4. **ISP information**: Confirm if the information from the Internet Service Provider is correct.\n",
      "5. **Wireless connection**: After changing the wireless name (SSID) and password, check if the device can access the internet.\n",
      "6. **Firmware version**: Ensure the firmware is up to date, and if necessary, reset the router to its default settings.\n",
      "\n",
      "The flowchart uses \"Yes\" and \"No\" pathways to guide users through troubleshooting steps efficiently.\n",
      "\n",
      "==== https://cdn.hubblecontent.osi.office.net/m365content/publish/984eb06b-e13d-4c1c-a05c-4f1f490993f1/1025633076.jpg ====\n",
      "The image depicts a drone hovering over a field, likely capturing data or monitoring crops. The setting appears to be an agricultural landscape with rows of green plants visible, illuminated by a warm sunset or sunrise light. The scene suggests the use of technology in farming practices.\n",
      "\n",
      "==== https://cdn.hubblecontent.osi.office.net/m365content/publish/57db0400-6f15-406f-9050-559272b52e4c/1217424559.jpg ====\n",
      "The image shows a laboratory setup with a person wearing a glove placing a vial onto a rotating platform. The platform has multiple slots for vials, some of which are filled and some are empty. The vials appear to have blue tops and some have red or green markings. This setup is typically used in a lab for various scientific or medical analyses, possibly related to sample management.\n",
      "\n",
      "==== https://cdn.hubblecontent.osi.office.net/m365content/publish/74f4e0ab-93a2-4d44-94d5-fda2981119c7/694075824.jpg ====\n",
      "The image depicts an industrial scene, likely a petrochemical or oil refinery facility. You can see large storage tanks, numerous pipes, and tall stacks, all illuminated at dusk. The plants are equipped with various infrastructure elements associated with industrial production, reflecting a complex network of machinery commonly found in such facilities. The surroundings appear to have some landscaping, with a field or area of land in the foreground.\n"
     ]
    }
   ],
   "source": [
    "for item in res:\n",
    "    print(f'\\n==== {item['url']} ====')\n",
    "    print(item['description'])"
   ]
  },
  {
   "cell_type": "markdown",
   "metadata": {},
   "source": [
    "Finally, append the description into the respective nodes in the graph"
   ]
  },
  {
   "cell_type": "code",
   "execution_count": 30,
   "metadata": {},
   "outputs": [
    {
     "name": "stdout",
     "output_type": "stream",
     "text": [
      "[<Record COUNT(wp)=5>]\n"
     ]
    }
   ],
   "source": [
    "with GraphDatabase.driver(uri, auth=(username, password)) as driver:\n",
    "    total = driver.execute_query(\n",
    "        '''\n",
    "        UNWIND $res AS res\n",
    "        MATCH (i:Image) WHERE i.url=res.url\n",
    "        MATCH (i)<-[:LINKED_TO]-(wp:WebPart)\n",
    "        SET wp.text=res.description\n",
    "        RETURN COUNT(wp)\n",
    "        ''',res=res\n",
    "    )\n",
    "\n",
    "    print(total.records)"
   ]
  }
 ],
 "metadata": {
  "kernelspec": {
   "display_name": ".venv",
   "language": "python",
   "name": "python3"
  },
  "language_info": {
   "codemirror_mode": {
    "name": "ipython",
    "version": 3
   },
   "file_extension": ".py",
   "mimetype": "text/x-python",
   "name": "python",
   "nbconvert_exporter": "python",
   "pygments_lexer": "ipython3",
   "version": "3.12.3"
  }
 },
 "nbformat": 4,
 "nbformat_minor": 2
}
